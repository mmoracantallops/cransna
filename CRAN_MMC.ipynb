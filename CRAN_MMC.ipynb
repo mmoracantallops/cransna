{
 "cells": [
  {
   "cell_type": "code",
   "execution_count": 1,
   "metadata": {
    "ExecuteTime": {
     "end_time": "2019-12-31T15:48:45.776434Z",
     "start_time": "2019-12-31T15:48:45.773838Z"
    }
   },
   "outputs": [
    {
     "name": "stdout",
     "output_type": "stream",
     "text": [
      "3.7.2\n"
     ]
    }
   ],
   "source": [
    "from platform import python_version\n",
    "print(python_version())"
   ]
  },
  {
   "cell_type": "code",
   "execution_count": 1,
   "metadata": {
    "ExecuteTime": {
     "end_time": "2020-03-17T21:58:38.527283Z",
     "start_time": "2020-03-17T21:58:38.263642Z"
    }
   },
   "outputs": [],
   "source": [
    "from pandas.io.json import json_normalize\n",
    "from bson import json_util, ObjectId\n",
    "import matplotlib.pyplot as plt\n",
    "import numpy as np\n",
    "import pandas as pd\n",
    "import pymongo\n",
    "import json\n",
    "import re"
   ]
  },
  {
   "cell_type": "code",
   "execution_count": 2,
   "metadata": {
    "ExecuteTime": {
     "end_time": "2020-03-17T21:58:38.531321Z",
     "start_time": "2020-03-17T21:58:38.528516Z"
    }
   },
   "outputs": [],
   "source": [
    "mongo = pymongo.MongoClient(\"mongodb://localhost:27017/\")\n",
    "database = mongo[\"DB_CRAN\"]\n",
    "collection = database[\"R_packages\"]"
   ]
  },
  {
   "cell_type": "code",
   "execution_count": 3,
   "metadata": {
    "ExecuteTime": {
     "end_time": "2020-03-17T21:58:54.366565Z",
     "start_time": "2020-03-17T21:58:38.566850Z"
    }
   },
   "outputs": [
    {
     "name": "stdout",
     "output_type": "stream",
     "text": [
      "HAY 15368 DOCUMENTOS\n"
     ]
    }
   ],
   "source": [
    "collection_packages = list(collection.find({}, {'_id': False}))\n",
    "\n",
    "packages = []\n",
    "for c in collection_packages:\n",
    "    packages.append(json.loads(json_util.dumps(c)))\n",
    "      \n",
    "print(f'HAY {len(packages)} DOCUMENTOS')"
   ]
  },
  {
   "cell_type": "code",
   "execution_count": 4,
   "metadata": {
    "ExecuteTime": {
     "end_time": "2020-03-17T21:59:11.667480Z",
     "start_time": "2020-03-17T21:58:54.367806Z"
    }
   },
   "outputs": [
    {
     "name": "stderr",
     "output_type": "stream",
     "text": [
      "/home/mmora/anaconda3/lib/python3.7/site-packages/ipykernel_launcher.py:42: FutureWarning: pandas.io.json.json_normalize is deprecated, use pandas.json_normalize instead\n"
     ]
    }
   ],
   "source": [
    "list_pkgs = []\n",
    "for i in packages:\n",
    "    for k, v in i.items():\n",
    "        list_pkgs.append(k)\n",
    "\n",
    "versions = []\n",
    "con = 0\n",
    "\n",
    "for i in list_pkgs:\n",
    "    if (con <= len(packages)):\n",
    "        versions.append(packages[con][i]['versions'])\n",
    "        con = con + 1\n",
    "\n",
    "versions_pkgs = []\n",
    "\n",
    "for i in versions:\n",
    "    for k, v in i.items():\n",
    "        versions_pkgs.append(v)\n",
    "        \n",
    "results = []\n",
    "\n",
    "for i in versions_pkgs:\n",
    "    pkg = {}\n",
    "    for k, v in i.items():\n",
    "        if isinstance(v, dict):\n",
    "            value = [l for l in v ]\n",
    "            version = [''.join(l) for l in v.values() ]\n",
    "            \n",
    "            pkg[k] = value\n",
    "            \n",
    "            for version_R, version in zip(value, version):\n",
    "                if version_R == \"R\":\n",
    "                    pkg.update({ \"Version_\" + version_R :''.join(version) })\n",
    "                    \n",
    "        elif isinstance(v, list):\n",
    "            if len(v) <= 1 and k != \"releases\":\n",
    "                pkg[k] = ''.join(v)\n",
    "            else:\n",
    "                pkg[k] = v\n",
    "    results.append(json.loads(json_util.dumps(pkg)))\n",
    "\n",
    "df = pd.DataFrame(json_normalize(results))"
   ]
  },
  {
   "cell_type": "code",
   "execution_count": 5,
   "metadata": {
    "ExecuteTime": {
     "end_time": "2020-03-17T21:59:11.672674Z",
     "start_time": "2020-03-17T21:59:11.668920Z"
    }
   },
   "outputs": [
    {
     "data": {
      "text/plain": [
       "{'Package': ['A3'],\n",
       " 'Type': ['Package'],\n",
       " 'Title': ['A3: Accurate, Adaptable, and Accessible Error Metrics for<U+000a>Predictive Models'],\n",
       " 'Version': ['0.9.1'],\n",
       " 'Date': ['2013-02-06'],\n",
       " 'Author': ['Scott Fortmann-Roe'],\n",
       " 'Maintainer': ['Scott Fortmann-Roe <scottfr@berkeley.edu>'],\n",
       " 'Description': ['This package supplies tools for tabulating and analyzing<U+000a>the results of predictive models. The methods employed are<U+000a>applicable to virtually any predictive model and make<U+000a>comparisons between different methodologies straightforward.'],\n",
       " 'License': ['GPL (>= 2)'],\n",
       " 'Depends': {'xtable': ['*'], 'pbapply': ['*']},\n",
       " 'Suggests': {'randomForest': ['*'], 'e1071': ['*']},\n",
       " 'Packaged': ['2013-02-06 16:46:12 UTC; scott'],\n",
       " 'Repository': ['CRAN'],\n",
       " 'Date/Publication': ['2013-02-07 10:00:27'],\n",
       " 'crandb_file_date': ['2013-02-07 04:00:29'],\n",
       " 'date': ['2013-02-07T10:00:27+00:00'],\n",
       " 'releases': ['2.15.3']}"
      ]
     },
     "execution_count": 5,
     "metadata": {},
     "output_type": "execute_result"
    }
   ],
   "source": [
    "versions_pkgs[0]"
   ]
  },
  {
   "cell_type": "code",
   "execution_count": 24,
   "metadata": {
    "ExecuteTime": {
     "end_time": "2020-03-17T22:00:11.122173Z",
     "start_time": "2020-03-17T22:00:11.117037Z"
    }
   },
   "outputs": [
    {
     "data": {
      "text/plain": [
       "{'Package': 'acc',\n",
       " 'Type': 'Package',\n",
       " 'Title': 'Exploring Accelerometer Data',\n",
       " 'Version': '1.3.3',\n",
       " 'Date': '2016-12-15',\n",
       " 'Author': 'Jaejoon Song, Matthew G. Cox',\n",
       " 'Maintainer': 'Jaejoon Song <jjsong2@mdanderson.org>',\n",
       " 'Description': 'Processes accelerometer data from uni-axial and tri-axial devices,\\nand generates data summaries. Also includes functions to plot, analyze, and\\nsimulate accelerometer data.',\n",
       " 'Depends': ['R', 'mhsmm'],\n",
       " 'Version_R': '>= 2.10',\n",
       " 'Imports': ['zoo',\n",
       "  'PhysicalActivity',\n",
       "  'nleqslv',\n",
       "  'plyr',\n",
       "  'methods',\n",
       "  'DBI',\n",
       "  'RSQLite',\n",
       "  'circlize',\n",
       "  'ggplot2',\n",
       "  'R_utils',\n",
       "  'iterators',\n",
       "  'Rcpp'],\n",
       " 'License': 'GPL (>= 2)',\n",
       " 'LinkingTo': ['Rcpp', 'RcppArmadillo'],\n",
       " 'RoxygenNote': '5.0.1',\n",
       " 'NeedsCompilation': 'yes',\n",
       " 'Packaged': '2016-12-16 22:14:21 UTC; JS',\n",
       " 'Repository': 'CRAN',\n",
       " 'Date/Publication': '2016-12-16 23:29:38',\n",
       " 'crandb_file_date': '2016-12-16 22:32:41',\n",
       " 'date': '2016-12-16T22:29:38+00:00',\n",
       " 'releases': []}"
      ]
     },
     "execution_count": 24,
     "metadata": {},
     "output_type": "execute_result"
    }
   ],
   "source": [
    "results[143]"
   ]
  },
  {
   "cell_type": "code",
   "execution_count": 25,
   "metadata": {
    "ExecuteTime": {
     "end_time": "2020-03-17T22:01:43.686705Z",
     "start_time": "2020-03-17T22:01:43.607861Z"
    }
   },
   "outputs": [
    {
     "ename": "KeyError",
     "evalue": "'Depends'",
     "output_type": "error",
     "traceback": [
      "\u001b[0;31m---------------------------------------------------------------------------\u001b[0m",
      "\u001b[0;31mKeyError\u001b[0m                                  Traceback (most recent call last)",
      "\u001b[0;32m<ipython-input-25-315846b1e32d>\u001b[0m in \u001b[0;36m<module>\u001b[0;34m\u001b[0m\n\u001b[1;32m      2\u001b[0m \u001b[0;34m\u001b[0m\u001b[0m\n\u001b[1;32m      3\u001b[0m \u001b[0;32mfor\u001b[0m \u001b[0mitem\u001b[0m \u001b[0;32min\u001b[0m \u001b[0mresults\u001b[0m\u001b[0;34m:\u001b[0m\u001b[0;34m\u001b[0m\u001b[0;34m\u001b[0m\u001b[0m\n\u001b[0;32m----> 4\u001b[0;31m     \u001b[0mrecords\u001b[0m\u001b[0;34m.\u001b[0m\u001b[0mappend\u001b[0m\u001b[0;34m(\u001b[0m\u001b[0;34m(\u001b[0m\u001b[0mitem\u001b[0m\u001b[0;34m[\u001b[0m\u001b[0;34m'Package'\u001b[0m\u001b[0;34m]\u001b[0m\u001b[0;34m,\u001b[0m\u001b[0mitem\u001b[0m\u001b[0;34m[\u001b[0m\u001b[0;34m'Version'\u001b[0m\u001b[0;34m]\u001b[0m\u001b[0;34m,\u001b[0m\u001b[0mitem\u001b[0m\u001b[0;34m[\u001b[0m\u001b[0;34m'date'\u001b[0m\u001b[0;34m]\u001b[0m\u001b[0;34m,\u001b[0m\u001b[0mitem\u001b[0m\u001b[0;34m[\u001b[0m\u001b[0;34m'Depends'\u001b[0m\u001b[0;34m]\u001b[0m\u001b[0;34m)\u001b[0m\u001b[0;34m)\u001b[0m\u001b[0;34m\u001b[0m\u001b[0;34m\u001b[0m\u001b[0m\n\u001b[0m",
      "\u001b[0;31mKeyError\u001b[0m: 'Depends'"
     ]
    }
   ],
   "source": [
    "records = []\n",
    "\n",
    "for item in results:\n",
    "    records.append((item['Package'],item['Version'],item['date'],item['Depends']))"
   ]
  },
  {
   "cell_type": "code",
   "execution_count": 26,
   "metadata": {
    "ExecuteTime": {
     "end_time": "2020-03-17T22:02:02.181091Z",
     "start_time": "2020-03-17T22:01:55.949817Z"
    }
   },
   "outputs": [
    {
     "name": "stderr",
     "output_type": "stream",
     "text": [
      "/home/mmora/anaconda3/lib/python3.7/site-packages/ipykernel_launcher.py:1: FutureWarning: pandas.io.json.json_normalize is deprecated, use pandas.json_normalize instead\n",
      "  \"\"\"Entry point for launching an IPython kernel.\n"
     ]
    },
    {
     "data": {
      "text/html": [
       "<div>\n",
       "<style scoped>\n",
       "    .dataframe tbody tr th:only-of-type {\n",
       "        vertical-align: middle;\n",
       "    }\n",
       "\n",
       "    .dataframe tbody tr th {\n",
       "        vertical-align: top;\n",
       "    }\n",
       "\n",
       "    .dataframe thead th {\n",
       "        text-align: right;\n",
       "    }\n",
       "</style>\n",
       "<table border=\"1\" class=\"dataframe\">\n",
       "  <thead>\n",
       "    <tr style=\"text-align: right;\">\n",
       "      <th></th>\n",
       "      <th>Package</th>\n",
       "      <th>Type</th>\n",
       "      <th>Title</th>\n",
       "      <th>Version</th>\n",
       "      <th>Date</th>\n",
       "      <th>Author</th>\n",
       "      <th>Maintainer</th>\n",
       "      <th>Description</th>\n",
       "      <th>License</th>\n",
       "      <th>Depends</th>\n",
       "      <th>...</th>\n",
       "      <th>Config/reticulate</th>\n",
       "      <th>Co-author</th>\n",
       "      <th>Saveimage</th>\n",
       "      <th>SystemRequirement</th>\n",
       "      <th>Versionnote</th>\n",
       "      <th>Classification_ACM</th>\n",
       "      <th>ReleaseDate</th>\n",
       "      <th>xxxLazyLoad</th>\n",
       "      <th>Github URL</th>\n",
       "      <th>Github</th>\n",
       "    </tr>\n",
       "  </thead>\n",
       "  <tbody>\n",
       "    <tr>\n",
       "      <th>0</th>\n",
       "      <td>A3</td>\n",
       "      <td>Package</td>\n",
       "      <td>A3: Accurate, Adaptable, and Accessible Error ...</td>\n",
       "      <td>0.9.1</td>\n",
       "      <td>2013-02-06</td>\n",
       "      <td>Scott Fortmann-Roe</td>\n",
       "      <td>Scott Fortmann-Roe &lt;scottfr@berkeley.edu&gt;</td>\n",
       "      <td>This package supplies tools for tabulating and...</td>\n",
       "      <td>GPL (&gt;= 2)</td>\n",
       "      <td>[xtable, pbapply]</td>\n",
       "      <td>...</td>\n",
       "      <td>NaN</td>\n",
       "      <td>NaN</td>\n",
       "      <td>NaN</td>\n",
       "      <td>NaN</td>\n",
       "      <td>NaN</td>\n",
       "      <td>NaN</td>\n",
       "      <td>NaN</td>\n",
       "      <td>NaN</td>\n",
       "      <td>NaN</td>\n",
       "      <td>NaN</td>\n",
       "    </tr>\n",
       "    <tr>\n",
       "      <th>1</th>\n",
       "      <td>A3</td>\n",
       "      <td>Package</td>\n",
       "      <td>A3: Accurate, Adaptable, and Accessible Error ...</td>\n",
       "      <td>0.9.2</td>\n",
       "      <td>2013-03-24</td>\n",
       "      <td>Scott Fortmann-Roe</td>\n",
       "      <td>Scott Fortmann-Roe &lt;scottfr@berkeley.edu&gt;</td>\n",
       "      <td>This package supplies tools for tabulating and...</td>\n",
       "      <td>GPL (&gt;= 2)</td>\n",
       "      <td>[R, xtable, pbapply]</td>\n",
       "      <td>...</td>\n",
       "      <td>NaN</td>\n",
       "      <td>NaN</td>\n",
       "      <td>NaN</td>\n",
       "      <td>NaN</td>\n",
       "      <td>NaN</td>\n",
       "      <td>NaN</td>\n",
       "      <td>NaN</td>\n",
       "      <td>NaN</td>\n",
       "      <td>NaN</td>\n",
       "      <td>NaN</td>\n",
       "    </tr>\n",
       "    <tr>\n",
       "      <th>2</th>\n",
       "      <td>A3</td>\n",
       "      <td>Package</td>\n",
       "      <td>Accurate, Adaptable, and Accessible Error Metr...</td>\n",
       "      <td>1.0.0</td>\n",
       "      <td>2015-08-15</td>\n",
       "      <td>Scott Fortmann-Roe</td>\n",
       "      <td>Scott Fortmann-Roe &lt;scottfr@berkeley.edu&gt;</td>\n",
       "      <td>Supplies tools for tabulating and analyzing th...</td>\n",
       "      <td>GPL (&gt;= 2)</td>\n",
       "      <td>[R, xtable, pbapply]</td>\n",
       "      <td>...</td>\n",
       "      <td>NaN</td>\n",
       "      <td>NaN</td>\n",
       "      <td>NaN</td>\n",
       "      <td>NaN</td>\n",
       "      <td>NaN</td>\n",
       "      <td>NaN</td>\n",
       "      <td>NaN</td>\n",
       "      <td>NaN</td>\n",
       "      <td>NaN</td>\n",
       "      <td>NaN</td>\n",
       "    </tr>\n",
       "    <tr>\n",
       "      <th>3</th>\n",
       "      <td>aaSEA</td>\n",
       "      <td>Package</td>\n",
       "      <td>Amino Acid Substitution Effect Analyser</td>\n",
       "      <td>1.0.0</td>\n",
       "      <td>NaN</td>\n",
       "      <td>Raja Sekhara Reddy D.M</td>\n",
       "      <td>Raja Sekhara Reddy D.M &lt;raja.duvvuru@gmail.com&gt;</td>\n",
       "      <td>Given a protein multiple sequence alignment, i...</td>\n",
       "      <td>GPL-3</td>\n",
       "      <td>[R]</td>\n",
       "      <td>...</td>\n",
       "      <td>NaN</td>\n",
       "      <td>NaN</td>\n",
       "      <td>NaN</td>\n",
       "      <td>NaN</td>\n",
       "      <td>NaN</td>\n",
       "      <td>NaN</td>\n",
       "      <td>NaN</td>\n",
       "      <td>NaN</td>\n",
       "      <td>NaN</td>\n",
       "      <td>NaN</td>\n",
       "    </tr>\n",
       "    <tr>\n",
       "      <th>4</th>\n",
       "      <td>aaSEA</td>\n",
       "      <td>Package</td>\n",
       "      <td>Amino Acid Substitution Effect Analyser</td>\n",
       "      <td>1.1.0</td>\n",
       "      <td>NaN</td>\n",
       "      <td>Raja Sekhara Reddy D.M</td>\n",
       "      <td>Raja Sekhara Reddy D.M &lt;raja.duvvuru@gmail.com&gt;</td>\n",
       "      <td>Given a protein multiple sequence alignment, i...</td>\n",
       "      <td>GPL-3</td>\n",
       "      <td>[R]</td>\n",
       "      <td>...</td>\n",
       "      <td>NaN</td>\n",
       "      <td>NaN</td>\n",
       "      <td>NaN</td>\n",
       "      <td>NaN</td>\n",
       "      <td>NaN</td>\n",
       "      <td>NaN</td>\n",
       "      <td>NaN</td>\n",
       "      <td>NaN</td>\n",
       "      <td>NaN</td>\n",
       "      <td>NaN</td>\n",
       "    </tr>\n",
       "    <tr>\n",
       "      <th>5</th>\n",
       "      <td>ABACUS</td>\n",
       "      <td>NaN</td>\n",
       "      <td>Apps Based Activities for Communicating and Un...</td>\n",
       "      <td>1.0.0</td>\n",
       "      <td>NaN</td>\n",
       "      <td>Mintu Nath [aut, cre]</td>\n",
       "      <td>Mintu Nath &lt;dr.m.nath@gmail.com&gt;</td>\n",
       "      <td>A set of Shiny apps for effective communicatio...</td>\n",
       "      <td>GPL-3</td>\n",
       "      <td>[R]</td>\n",
       "      <td>...</td>\n",
       "      <td>NaN</td>\n",
       "      <td>NaN</td>\n",
       "      <td>NaN</td>\n",
       "      <td>NaN</td>\n",
       "      <td>NaN</td>\n",
       "      <td>NaN</td>\n",
       "      <td>NaN</td>\n",
       "      <td>NaN</td>\n",
       "      <td>NaN</td>\n",
       "      <td>NaN</td>\n",
       "    </tr>\n",
       "    <tr>\n",
       "      <th>6</th>\n",
       "      <td>abbyyR</td>\n",
       "      <td>NaN</td>\n",
       "      <td>Access to Abbyy Optical Character Recognition ...</td>\n",
       "      <td>0.1</td>\n",
       "      <td>NaN</td>\n",
       "      <td>Gaurav Sood [aut, cre]</td>\n",
       "      <td>Gaurav Sood &lt;gsood07@gmail.com&gt;</td>\n",
       "      <td>Get text from images of text using Abbyy Cloud...</td>\n",
       "      <td>GPL (&gt;= 2)</td>\n",
       "      <td>[R]</td>\n",
       "      <td>...</td>\n",
       "      <td>NaN</td>\n",
       "      <td>NaN</td>\n",
       "      <td>NaN</td>\n",
       "      <td>NaN</td>\n",
       "      <td>NaN</td>\n",
       "      <td>NaN</td>\n",
       "      <td>NaN</td>\n",
       "      <td>NaN</td>\n",
       "      <td>NaN</td>\n",
       "      <td>NaN</td>\n",
       "    </tr>\n",
       "    <tr>\n",
       "      <th>7</th>\n",
       "      <td>abbyyR</td>\n",
       "      <td>NaN</td>\n",
       "      <td>Access to Abbyy Optical Character Recognition ...</td>\n",
       "      <td>0.2</td>\n",
       "      <td>NaN</td>\n",
       "      <td>Gaurav Sood [aut, cre]</td>\n",
       "      <td>Gaurav Sood &lt;gsood07@gmail.com&gt;</td>\n",
       "      <td>Get text from images of text using Abbyy Cloud...</td>\n",
       "      <td>GPL (&gt;= 2)</td>\n",
       "      <td>[R]</td>\n",
       "      <td>...</td>\n",
       "      <td>NaN</td>\n",
       "      <td>NaN</td>\n",
       "      <td>NaN</td>\n",
       "      <td>NaN</td>\n",
       "      <td>NaN</td>\n",
       "      <td>NaN</td>\n",
       "      <td>NaN</td>\n",
       "      <td>NaN</td>\n",
       "      <td>NaN</td>\n",
       "      <td>NaN</td>\n",
       "    </tr>\n",
       "    <tr>\n",
       "      <th>8</th>\n",
       "      <td>abbyyR</td>\n",
       "      <td>NaN</td>\n",
       "      <td>Access to Abbyy Optical Character Recognition ...</td>\n",
       "      <td>0.2.1</td>\n",
       "      <td>NaN</td>\n",
       "      <td>Gaurav Sood [aut, cre]</td>\n",
       "      <td>Gaurav Sood &lt;gsood07@gmail.com&gt;</td>\n",
       "      <td>Get text from images of text using Abbyy Cloud...</td>\n",
       "      <td>MIT + file LICENSE</td>\n",
       "      <td>[R]</td>\n",
       "      <td>...</td>\n",
       "      <td>NaN</td>\n",
       "      <td>NaN</td>\n",
       "      <td>NaN</td>\n",
       "      <td>NaN</td>\n",
       "      <td>NaN</td>\n",
       "      <td>NaN</td>\n",
       "      <td>NaN</td>\n",
       "      <td>NaN</td>\n",
       "      <td>NaN</td>\n",
       "      <td>NaN</td>\n",
       "    </tr>\n",
       "    <tr>\n",
       "      <th>9</th>\n",
       "      <td>abbyyR</td>\n",
       "      <td>NaN</td>\n",
       "      <td>Access to Abbyy Optical Character Recognition ...</td>\n",
       "      <td>0.2.2</td>\n",
       "      <td>NaN</td>\n",
       "      <td>Gaurav Sood [aut, cre]</td>\n",
       "      <td>Gaurav Sood &lt;gsood07@gmail.com&gt;</td>\n",
       "      <td>Get text from images of text using Abbyy Cloud...</td>\n",
       "      <td>MIT + file LICENSE</td>\n",
       "      <td>[R]</td>\n",
       "      <td>...</td>\n",
       "      <td>NaN</td>\n",
       "      <td>NaN</td>\n",
       "      <td>NaN</td>\n",
       "      <td>NaN</td>\n",
       "      <td>NaN</td>\n",
       "      <td>NaN</td>\n",
       "      <td>NaN</td>\n",
       "      <td>NaN</td>\n",
       "      <td>NaN</td>\n",
       "      <td>NaN</td>\n",
       "    </tr>\n",
       "  </tbody>\n",
       "</table>\n",
       "<p>10 rows × 224 columns</p>\n",
       "</div>"
      ],
      "text/plain": [
       "  Package     Type                                              Title Version  \\\n",
       "0      A3  Package  A3: Accurate, Adaptable, and Accessible Error ...   0.9.1   \n",
       "1      A3  Package  A3: Accurate, Adaptable, and Accessible Error ...   0.9.2   \n",
       "2      A3  Package  Accurate, Adaptable, and Accessible Error Metr...   1.0.0   \n",
       "3   aaSEA  Package            Amino Acid Substitution Effect Analyser   1.0.0   \n",
       "4   aaSEA  Package            Amino Acid Substitution Effect Analyser   1.1.0   \n",
       "5  ABACUS      NaN  Apps Based Activities for Communicating and Un...   1.0.0   \n",
       "6  abbyyR      NaN  Access to Abbyy Optical Character Recognition ...     0.1   \n",
       "7  abbyyR      NaN  Access to Abbyy Optical Character Recognition ...     0.2   \n",
       "8  abbyyR      NaN  Access to Abbyy Optical Character Recognition ...   0.2.1   \n",
       "9  abbyyR      NaN  Access to Abbyy Optical Character Recognition ...   0.2.2   \n",
       "\n",
       "         Date                  Author  \\\n",
       "0  2013-02-06      Scott Fortmann-Roe   \n",
       "1  2013-03-24      Scott Fortmann-Roe   \n",
       "2  2015-08-15      Scott Fortmann-Roe   \n",
       "3         NaN  Raja Sekhara Reddy D.M   \n",
       "4         NaN  Raja Sekhara Reddy D.M   \n",
       "5         NaN   Mintu Nath [aut, cre]   \n",
       "6         NaN  Gaurav Sood [aut, cre]   \n",
       "7         NaN  Gaurav Sood [aut, cre]   \n",
       "8         NaN  Gaurav Sood [aut, cre]   \n",
       "9         NaN  Gaurav Sood [aut, cre]   \n",
       "\n",
       "                                        Maintainer  \\\n",
       "0        Scott Fortmann-Roe <scottfr@berkeley.edu>   \n",
       "1        Scott Fortmann-Roe <scottfr@berkeley.edu>   \n",
       "2        Scott Fortmann-Roe <scottfr@berkeley.edu>   \n",
       "3  Raja Sekhara Reddy D.M <raja.duvvuru@gmail.com>   \n",
       "4  Raja Sekhara Reddy D.M <raja.duvvuru@gmail.com>   \n",
       "5                 Mintu Nath <dr.m.nath@gmail.com>   \n",
       "6                  Gaurav Sood <gsood07@gmail.com>   \n",
       "7                  Gaurav Sood <gsood07@gmail.com>   \n",
       "8                  Gaurav Sood <gsood07@gmail.com>   \n",
       "9                  Gaurav Sood <gsood07@gmail.com>   \n",
       "\n",
       "                                         Description             License  \\\n",
       "0  This package supplies tools for tabulating and...          GPL (>= 2)   \n",
       "1  This package supplies tools for tabulating and...          GPL (>= 2)   \n",
       "2  Supplies tools for tabulating and analyzing th...          GPL (>= 2)   \n",
       "3  Given a protein multiple sequence alignment, i...               GPL-3   \n",
       "4  Given a protein multiple sequence alignment, i...               GPL-3   \n",
       "5  A set of Shiny apps for effective communicatio...               GPL-3   \n",
       "6  Get text from images of text using Abbyy Cloud...          GPL (>= 2)   \n",
       "7  Get text from images of text using Abbyy Cloud...          GPL (>= 2)   \n",
       "8  Get text from images of text using Abbyy Cloud...  MIT + file LICENSE   \n",
       "9  Get text from images of text using Abbyy Cloud...  MIT + file LICENSE   \n",
       "\n",
       "                Depends  ... Config/reticulate Co-author Saveimage  \\\n",
       "0     [xtable, pbapply]  ...               NaN       NaN       NaN   \n",
       "1  [R, xtable, pbapply]  ...               NaN       NaN       NaN   \n",
       "2  [R, xtable, pbapply]  ...               NaN       NaN       NaN   \n",
       "3                   [R]  ...               NaN       NaN       NaN   \n",
       "4                   [R]  ...               NaN       NaN       NaN   \n",
       "5                   [R]  ...               NaN       NaN       NaN   \n",
       "6                   [R]  ...               NaN       NaN       NaN   \n",
       "7                   [R]  ...               NaN       NaN       NaN   \n",
       "8                   [R]  ...               NaN       NaN       NaN   \n",
       "9                   [R]  ...               NaN       NaN       NaN   \n",
       "\n",
       "  SystemRequirement Versionnote Classification_ACM ReleaseDate xxxLazyLoad  \\\n",
       "0               NaN         NaN                NaN         NaN         NaN   \n",
       "1               NaN         NaN                NaN         NaN         NaN   \n",
       "2               NaN         NaN                NaN         NaN         NaN   \n",
       "3               NaN         NaN                NaN         NaN         NaN   \n",
       "4               NaN         NaN                NaN         NaN         NaN   \n",
       "5               NaN         NaN                NaN         NaN         NaN   \n",
       "6               NaN         NaN                NaN         NaN         NaN   \n",
       "7               NaN         NaN                NaN         NaN         NaN   \n",
       "8               NaN         NaN                NaN         NaN         NaN   \n",
       "9               NaN         NaN                NaN         NaN         NaN   \n",
       "\n",
       "  Github URL Github  \n",
       "0        NaN    NaN  \n",
       "1        NaN    NaN  \n",
       "2        NaN    NaN  \n",
       "3        NaN    NaN  \n",
       "4        NaN    NaN  \n",
       "5        NaN    NaN  \n",
       "6        NaN    NaN  \n",
       "7        NaN    NaN  \n",
       "8        NaN    NaN  \n",
       "9        NaN    NaN  \n",
       "\n",
       "[10 rows x 224 columns]"
      ]
     },
     "execution_count": 26,
     "metadata": {},
     "output_type": "execute_result"
    }
   ],
   "source": [
    "df_original = pd.DataFrame(json_normalize(results))\n",
    "df_original.head(10)"
   ]
  },
  {
   "cell_type": "code",
   "execution_count": 27,
   "metadata": {
    "ExecuteTime": {
     "end_time": "2020-03-17T22:02:29.055781Z",
     "start_time": "2020-03-17T22:02:29.050634Z"
    }
   },
   "outputs": [
    {
     "data": {
      "text/plain": [
       "(91321, 224)"
      ]
     },
     "execution_count": 27,
     "metadata": {},
     "output_type": "execute_result"
    }
   ],
   "source": [
    "df_original.shape"
   ]
  },
  {
   "cell_type": "code",
   "execution_count": 28,
   "metadata": {
    "ExecuteTime": {
     "end_time": "2020-03-17T22:02:31.587139Z",
     "start_time": "2020-03-17T22:02:31.016977Z"
    }
   },
   "outputs": [
    {
     "data": {
      "text/html": [
       "<div>\n",
       "<style scoped>\n",
       "    .dataframe tbody tr th:only-of-type {\n",
       "        vertical-align: middle;\n",
       "    }\n",
       "\n",
       "    .dataframe tbody tr th {\n",
       "        vertical-align: top;\n",
       "    }\n",
       "\n",
       "    .dataframe thead th {\n",
       "        text-align: right;\n",
       "    }\n",
       "</style>\n",
       "<table border=\"1\" class=\"dataframe\">\n",
       "  <thead>\n",
       "    <tr style=\"text-align: right;\">\n",
       "      <th></th>\n",
       "      <th>0</th>\n",
       "    </tr>\n",
       "  </thead>\n",
       "  <tbody>\n",
       "    <tr>\n",
       "      <th>Package</th>\n",
       "      <td>0</td>\n",
       "    </tr>\n",
       "    <tr>\n",
       "      <th>Type</th>\n",
       "      <td>41561</td>\n",
       "    </tr>\n",
       "    <tr>\n",
       "      <th>Title</th>\n",
       "      <td>150</td>\n",
       "    </tr>\n",
       "    <tr>\n",
       "      <th>Version</th>\n",
       "      <td>19</td>\n",
       "    </tr>\n",
       "    <tr>\n",
       "      <th>Date</th>\n",
       "      <td>23216</td>\n",
       "    </tr>\n",
       "    <tr>\n",
       "      <th>...</th>\n",
       "      <td>...</td>\n",
       "    </tr>\n",
       "    <tr>\n",
       "      <th>Contributor</th>\n",
       "      <td>91319</td>\n",
       "    </tr>\n",
       "    <tr>\n",
       "      <th>Respository</th>\n",
       "      <td>91318</td>\n",
       "    </tr>\n",
       "    <tr>\n",
       "      <th>lastDate</th>\n",
       "      <td>91320</td>\n",
       "    </tr>\n",
       "    <tr>\n",
       "      <th>LicenseNote</th>\n",
       "      <td>91288</td>\n",
       "    </tr>\n",
       "    <tr>\n",
       "      <th>LastChangedDate</th>\n",
       "      <td>91146</td>\n",
       "    </tr>\n",
       "  </tbody>\n",
       "</table>\n",
       "<p>120 rows × 1 columns</p>\n",
       "</div>"
      ],
      "text/plain": [
       "                     0\n",
       "Package              0\n",
       "Type             41561\n",
       "Title              150\n",
       "Version             19\n",
       "Date             23216\n",
       "...                ...\n",
       "Contributor      91319\n",
       "Respository      91318\n",
       "lastDate         91320\n",
       "LicenseNote      91288\n",
       "LastChangedDate  91146\n",
       "\n",
       "[120 rows x 1 columns]"
      ]
     },
     "execution_count": 28,
     "metadata": {},
     "output_type": "execute_result"
    }
   ],
   "source": [
    "df_original.isna().sum().to_frame().head(120)"
   ]
  },
  {
   "cell_type": "code",
   "execution_count": 29,
   "metadata": {
    "ExecuteTime": {
     "end_time": "2020-03-17T22:02:34.070500Z",
     "start_time": "2020-03-17T22:02:33.438233Z"
    }
   },
   "outputs": [
    {
     "data": {
      "text/plain": [
       "(91321, 30)"
      ]
     },
     "execution_count": 29,
     "metadata": {},
     "output_type": "execute_result"
    }
   ],
   "source": [
    "df = df_original.dropna(axis=1, thresh=10000)\n",
    "df.shape"
   ]
  },
  {
   "cell_type": "code",
   "execution_count": 30,
   "metadata": {
    "ExecuteTime": {
     "end_time": "2020-03-17T22:02:35.007894Z",
     "start_time": "2020-03-17T22:02:35.005499Z"
    }
   },
   "outputs": [
    {
     "name": "stdout",
     "output_type": "stream",
     "text": [
      "['Package', 'Type', 'Title', 'Version', 'Date', 'Author', 'Maintainer', 'Description', 'License', 'Depends', 'Suggests', 'Packaged', 'Repository', 'Date/Publication', 'crandb_file_date', 'date', 'releases', 'Version_R', 'NeedsCompilation', 'Imports', 'Encoding', 'LazyData', 'RoxygenNote', 'VignetteBuilder', 'MD5sum', 'URL', 'Authors@R', 'BugReports', 'LinkingTo', 'LazyLoad']\n"
     ]
    }
   ],
   "source": [
    "print(df.columns.tolist())"
   ]
  },
  {
   "cell_type": "code",
   "execution_count": 37,
   "metadata": {
    "ExecuteTime": {
     "end_time": "2019-12-31T15:57:02.452911Z",
     "start_time": "2019-12-31T15:56:55.193289Z"
    }
   },
   "outputs": [
    {
     "name": "stderr",
     "output_type": "stream",
     "text": [
      "/home/mmora/anaconda3/lib/python3.7/site-packages/ipykernel_launcher.py:4: SettingWithCopyWarning: \n",
      "A value is trying to be set on a copy of a slice from a DataFrame\n",
      "\n",
      "See the caveats in the documentation: http://pandas.pydata.org/pandas-docs/stable/indexing.html#indexing-view-versus-copy\n",
      "  after removing the cwd from sys.path.\n"
     ]
    }
   ],
   "source": [
    "columns = ['Author','Imports','Depends','Suggests','LinkingTo']\n",
    "\n",
    "for col in columns:\n",
    "    df.loc[df[col].isnull(),[col]] = df.loc[df[col].isnull(), col].apply(lambda x: [])"
   ]
  },
  {
   "cell_type": "code",
   "execution_count": 38,
   "metadata": {
    "ExecuteTime": {
     "end_time": "2019-12-31T15:57:03.918165Z",
     "start_time": "2019-12-31T15:57:02.453982Z"
    }
   },
   "outputs": [
    {
     "name": "stderr",
     "output_type": "stream",
     "text": [
      "/home/mmora/anaconda3/lib/python3.7/site-packages/ipykernel_launcher.py:1: SettingWithCopyWarning: \n",
      "A value is trying to be set on a copy of a slice from a DataFrame\n",
      "\n",
      "See the caveats in the documentation: http://pandas.pydata.org/pandas-docs/stable/indexing.html#indexing-view-versus-copy\n",
      "  \"\"\"Entry point for launching an IPython kernel.\n"
     ]
    }
   ],
   "source": [
    "df.loc[df['Date/Publication'].isna(),'Date/Publication'] = df['date']"
   ]
  },
  {
   "cell_type": "code",
   "execution_count": 39,
   "metadata": {
    "ExecuteTime": {
     "end_time": "2019-12-31T15:57:11.195806Z",
     "start_time": "2019-12-31T15:57:03.919489Z"
    }
   },
   "outputs": [
    {
     "name": "stderr",
     "output_type": "stream",
     "text": [
      "/home/mmora/anaconda3/lib/python3.7/site-packages/ipykernel_launcher.py:1: SettingWithCopyWarning: \n",
      "A value is trying to be set on a copy of a slice from a DataFrame.\n",
      "Try using .loc[row_indexer,col_indexer] = value instead\n",
      "\n",
      "See the caveats in the documentation: http://pandas.pydata.org/pandas-docs/stable/indexing.html#indexing-view-versus-copy\n",
      "  \"\"\"Entry point for launching an IPython kernel.\n",
      "/home/mmora/anaconda3/lib/python3.7/site-packages/ipykernel_launcher.py:2: SettingWithCopyWarning: \n",
      "A value is trying to be set on a copy of a slice from a DataFrame.\n",
      "Try using .loc[row_indexer,col_indexer] = value instead\n",
      "\n",
      "See the caveats in the documentation: http://pandas.pydata.org/pandas-docs/stable/indexing.html#indexing-view-versus-copy\n",
      "  \n",
      "/home/mmora/anaconda3/lib/python3.7/site-packages/ipykernel_launcher.py:3: SettingWithCopyWarning: \n",
      "A value is trying to be set on a copy of a slice from a DataFrame.\n",
      "Try using .loc[row_indexer,col_indexer] = value instead\n",
      "\n",
      "See the caveats in the documentation: http://pandas.pydata.org/pandas-docs/stable/indexing.html#indexing-view-versus-copy\n",
      "  This is separate from the ipykernel package so we can avoid doing imports until\n",
      "/home/mmora/anaconda3/lib/python3.7/site-packages/ipykernel_launcher.py:4: SettingWithCopyWarning: \n",
      "A value is trying to be set on a copy of a slice from a DataFrame.\n",
      "Try using .loc[row_indexer,col_indexer] = value instead\n",
      "\n",
      "See the caveats in the documentation: http://pandas.pydata.org/pandas-docs/stable/indexing.html#indexing-view-versus-copy\n",
      "  after removing the cwd from sys.path.\n",
      "/home/mmora/anaconda3/lib/python3.7/site-packages/ipykernel_launcher.py:5: SettingWithCopyWarning: \n",
      "A value is trying to be set on a copy of a slice from a DataFrame.\n",
      "Try using .loc[row_indexer,col_indexer] = value instead\n",
      "\n",
      "See the caveats in the documentation: http://pandas.pydata.org/pandas-docs/stable/indexing.html#indexing-view-versus-copy\n",
      "  \"\"\"\n"
     ]
    }
   ],
   "source": [
    "df['DatePublication'] = pd.to_datetime(df['Date/Publication'], utc=True).values.astype('M8[D]')\n",
    "df['Year/Publication'] = df['DatePublication'].dt.strftime('%Y')\n",
    "df['Month/Publication'] = df['DatePublication'].dt.strftime('%m')\n",
    "df['Day/Publication'] = df['DatePublication'].dt.strftime('%d')\n",
    "df[\"Year_Month/Publication\"] = df['DatePublication'].dt.strftime('%Y-%m')"
   ]
  },
  {
   "cell_type": "code",
   "execution_count": 40,
   "metadata": {
    "ExecuteTime": {
     "end_time": "2019-12-31T15:57:17.308552Z",
     "start_time": "2019-12-31T15:57:17.292144Z"
    }
   },
   "outputs": [
    {
     "data": {
      "text/html": [
       "<div>\n",
       "<style scoped>\n",
       "    .dataframe tbody tr th:only-of-type {\n",
       "        vertical-align: middle;\n",
       "    }\n",
       "\n",
       "    .dataframe tbody tr th {\n",
       "        vertical-align: top;\n",
       "    }\n",
       "\n",
       "    .dataframe thead th {\n",
       "        text-align: right;\n",
       "    }\n",
       "</style>\n",
       "<table border=\"1\" class=\"dataframe\">\n",
       "  <thead>\n",
       "    <tr style=\"text-align: right;\">\n",
       "      <th></th>\n",
       "      <th>Author</th>\n",
       "      <th>Authors@R</th>\n",
       "      <th>BugReports</th>\n",
       "      <th>Date</th>\n",
       "      <th>Date/Publication</th>\n",
       "      <th>Depends</th>\n",
       "      <th>Description</th>\n",
       "      <th>Encoding</th>\n",
       "      <th>Imports</th>\n",
       "      <th>LazyData</th>\n",
       "      <th>...</th>\n",
       "      <th>Version_R</th>\n",
       "      <th>VignetteBuilder</th>\n",
       "      <th>crandb_file_date</th>\n",
       "      <th>date</th>\n",
       "      <th>releases</th>\n",
       "      <th>DatePublication</th>\n",
       "      <th>Year/Publication</th>\n",
       "      <th>Month/Publication</th>\n",
       "      <th>Day/Publication</th>\n",
       "      <th>Year_Month/Publication</th>\n",
       "    </tr>\n",
       "  </thead>\n",
       "  <tbody>\n",
       "    <tr>\n",
       "      <th>0</th>\n",
       "      <td>Scott Fortmann-Roe</td>\n",
       "      <td>NaN</td>\n",
       "      <td>NaN</td>\n",
       "      <td>2013-02-06</td>\n",
       "      <td>2013-02-07 10:00:27</td>\n",
       "      <td>[xtable, pbapply]</td>\n",
       "      <td>This package supplies tools for tabulating and...</td>\n",
       "      <td>NaN</td>\n",
       "      <td>[]</td>\n",
       "      <td>NaN</td>\n",
       "      <td>...</td>\n",
       "      <td>NaN</td>\n",
       "      <td>NaN</td>\n",
       "      <td>2013-02-07 04:00:29</td>\n",
       "      <td>2013-02-07T10:00:27+00:00</td>\n",
       "      <td>[2.15.3]</td>\n",
       "      <td>2013-02-07</td>\n",
       "      <td>2013</td>\n",
       "      <td>02</td>\n",
       "      <td>07</td>\n",
       "      <td>2013-02</td>\n",
       "    </tr>\n",
       "    <tr>\n",
       "      <th>1</th>\n",
       "      <td>Scott Fortmann-Roe</td>\n",
       "      <td>NaN</td>\n",
       "      <td>NaN</td>\n",
       "      <td>2013-03-24</td>\n",
       "      <td>2013-03-26 19:58:40</td>\n",
       "      <td>[R, xtable, pbapply]</td>\n",
       "      <td>This package supplies tools for tabulating and...</td>\n",
       "      <td>NaN</td>\n",
       "      <td>[]</td>\n",
       "      <td>NaN</td>\n",
       "      <td>...</td>\n",
       "      <td>&gt;= 2.15.0</td>\n",
       "      <td>NaN</td>\n",
       "      <td>2013-03-26 14:58:40</td>\n",
       "      <td>2013-03-26T19:58:40+00:00</td>\n",
       "      <td>[3.0.0, 3.0.1, 3.0.2, 3.0.3, 3.1.0, 3.1.1]</td>\n",
       "      <td>2013-03-26</td>\n",
       "      <td>2013</td>\n",
       "      <td>03</td>\n",
       "      <td>26</td>\n",
       "      <td>2013-03</td>\n",
       "    </tr>\n",
       "    <tr>\n",
       "      <th>2</th>\n",
       "      <td>Scott Fortmann-Roe</td>\n",
       "      <td>NaN</td>\n",
       "      <td>NaN</td>\n",
       "      <td>2015-08-15</td>\n",
       "      <td>2015-08-16 23:05:52</td>\n",
       "      <td>[R, xtable, pbapply]</td>\n",
       "      <td>Supplies tools for tabulating and analyzing th...</td>\n",
       "      <td>NaN</td>\n",
       "      <td>[]</td>\n",
       "      <td>NaN</td>\n",
       "      <td>...</td>\n",
       "      <td>&gt;= 2.15.0</td>\n",
       "      <td>NaN</td>\n",
       "      <td>2015-08-16 17:08:22</td>\n",
       "      <td>2015-08-16T23:05:52+00:00</td>\n",
       "      <td>[]</td>\n",
       "      <td>2015-08-16</td>\n",
       "      <td>2015</td>\n",
       "      <td>08</td>\n",
       "      <td>16</td>\n",
       "      <td>2015-08</td>\n",
       "    </tr>\n",
       "    <tr>\n",
       "      <th>3</th>\n",
       "      <td>Raja Sekhara Reddy D.M</td>\n",
       "      <td>NaN</td>\n",
       "      <td>NaN</td>\n",
       "      <td>NaN</td>\n",
       "      <td>2019-08-01 09:10:06 UTC</td>\n",
       "      <td>[R]</td>\n",
       "      <td>Given a protein multiple sequence alignment, i...</td>\n",
       "      <td>UTF-8</td>\n",
       "      <td>[DT, networkD3, shiny, shinydashboard, magritt...</td>\n",
       "      <td>true</td>\n",
       "      <td>...</td>\n",
       "      <td>&gt;= 3.4.0</td>\n",
       "      <td>knitr</td>\n",
       "      <td>2019-08-01 09:50:23</td>\n",
       "      <td>2019-08-01T08:10:06+00:00</td>\n",
       "      <td>[]</td>\n",
       "      <td>2019-08-01</td>\n",
       "      <td>2019</td>\n",
       "      <td>08</td>\n",
       "      <td>01</td>\n",
       "      <td>2019-08</td>\n",
       "    </tr>\n",
       "    <tr>\n",
       "      <th>4</th>\n",
       "      <td>Raja Sekhara Reddy D.M</td>\n",
       "      <td>NaN</td>\n",
       "      <td>NaN</td>\n",
       "      <td>NaN</td>\n",
       "      <td>2019-11-09 16:20:02 UTC</td>\n",
       "      <td>[R]</td>\n",
       "      <td>Given a protein multiple sequence alignment, i...</td>\n",
       "      <td>UTF-8</td>\n",
       "      <td>[DT, networkD3, shiny, shinydashboard, magritt...</td>\n",
       "      <td>true</td>\n",
       "      <td>...</td>\n",
       "      <td>&gt;= 3.4.0</td>\n",
       "      <td>knitr</td>\n",
       "      <td>2019-11-09 17:56:27</td>\n",
       "      <td>2019-11-09T15:20:02+00:00</td>\n",
       "      <td>[]</td>\n",
       "      <td>2019-11-09</td>\n",
       "      <td>2019</td>\n",
       "      <td>11</td>\n",
       "      <td>09</td>\n",
       "      <td>2019-11</td>\n",
       "    </tr>\n",
       "  </tbody>\n",
       "</table>\n",
       "<p>5 rows × 35 columns</p>\n",
       "</div>"
      ],
      "text/plain": [
       "                   Author Authors@R BugReports        Date  \\\n",
       "0      Scott Fortmann-Roe       NaN        NaN  2013-02-06   \n",
       "1      Scott Fortmann-Roe       NaN        NaN  2013-03-24   \n",
       "2      Scott Fortmann-Roe       NaN        NaN  2015-08-15   \n",
       "3  Raja Sekhara Reddy D.M       NaN        NaN         NaN   \n",
       "4  Raja Sekhara Reddy D.M       NaN        NaN         NaN   \n",
       "\n",
       "          Date/Publication               Depends  \\\n",
       "0      2013-02-07 10:00:27     [xtable, pbapply]   \n",
       "1      2013-03-26 19:58:40  [R, xtable, pbapply]   \n",
       "2      2015-08-16 23:05:52  [R, xtable, pbapply]   \n",
       "3  2019-08-01 09:10:06 UTC                   [R]   \n",
       "4  2019-11-09 16:20:02 UTC                   [R]   \n",
       "\n",
       "                                         Description Encoding  \\\n",
       "0  This package supplies tools for tabulating and...      NaN   \n",
       "1  This package supplies tools for tabulating and...      NaN   \n",
       "2  Supplies tools for tabulating and analyzing th...      NaN   \n",
       "3  Given a protein multiple sequence alignment, i...    UTF-8   \n",
       "4  Given a protein multiple sequence alignment, i...    UTF-8   \n",
       "\n",
       "                                             Imports LazyData  \\\n",
       "0                                                 []      NaN   \n",
       "1                                                 []      NaN   \n",
       "2                                                 []      NaN   \n",
       "3  [DT, networkD3, shiny, shinydashboard, magritt...     true   \n",
       "4  [DT, networkD3, shiny, shinydashboard, magritt...     true   \n",
       "\n",
       "           ...            Version_R VignetteBuilder     crandb_file_date  \\\n",
       "0          ...                  NaN             NaN  2013-02-07 04:00:29   \n",
       "1          ...            >= 2.15.0             NaN  2013-03-26 14:58:40   \n",
       "2          ...            >= 2.15.0             NaN  2015-08-16 17:08:22   \n",
       "3          ...             >= 3.4.0           knitr  2019-08-01 09:50:23   \n",
       "4          ...             >= 3.4.0           knitr  2019-11-09 17:56:27   \n",
       "\n",
       "                        date                                    releases  \\\n",
       "0  2013-02-07T10:00:27+00:00                                    [2.15.3]   \n",
       "1  2013-03-26T19:58:40+00:00  [3.0.0, 3.0.1, 3.0.2, 3.0.3, 3.1.0, 3.1.1]   \n",
       "2  2015-08-16T23:05:52+00:00                                          []   \n",
       "3  2019-08-01T08:10:06+00:00                                          []   \n",
       "4  2019-11-09T15:20:02+00:00                                          []   \n",
       "\n",
       "  DatePublication Year/Publication Month/Publication Day/Publication  \\\n",
       "0      2013-02-07             2013                02              07   \n",
       "1      2013-03-26             2013                03              26   \n",
       "2      2015-08-16             2015                08              16   \n",
       "3      2019-08-01             2019                08              01   \n",
       "4      2019-11-09             2019                11              09   \n",
       "\n",
       "  Year_Month/Publication  \n",
       "0                2013-02  \n",
       "1                2013-03  \n",
       "2                2015-08  \n",
       "3                2019-08  \n",
       "4                2019-11  \n",
       "\n",
       "[5 rows x 35 columns]"
      ]
     },
     "execution_count": 40,
     "metadata": {},
     "output_type": "execute_result"
    }
   ],
   "source": [
    "df.head()"
   ]
  },
  {
   "cell_type": "code",
   "execution_count": 41,
   "metadata": {
    "ExecuteTime": {
     "end_time": "2019-12-31T15:58:08.083143Z",
     "start_time": "2019-12-31T15:58:05.131926Z"
    }
   },
   "outputs": [
    {
     "name": "stderr",
     "output_type": "stream",
     "text": [
      "/home/mmora/anaconda3/lib/python3.7/site-packages/ipykernel_launcher.py:1: SettingWithCopyWarning: \n",
      "A value is trying to be set on a copy of a slice from a DataFrame.\n",
      "Try using .loc[row_indexer,col_indexer] = value instead\n",
      "\n",
      "See the caveats in the documentation: http://pandas.pydata.org/pandas-docs/stable/indexing.html#indexing-view-versus-copy\n",
      "  \"\"\"Entry point for launching an IPython kernel.\n",
      "/home/mmora/anaconda3/lib/python3.7/site-packages/ipykernel_launcher.py:2: SettingWithCopyWarning: \n",
      "A value is trying to be set on a copy of a slice from a DataFrame.\n",
      "Try using .loc[row_indexer,col_indexer] = value instead\n",
      "\n",
      "See the caveats in the documentation: http://pandas.pydata.org/pandas-docs/stable/indexing.html#indexing-view-versus-copy\n",
      "  \n",
      "/home/mmora/anaconda3/lib/python3.7/site-packages/ipykernel_launcher.py:3: SettingWithCopyWarning: \n",
      "A value is trying to be set on a copy of a slice from a DataFrame.\n",
      "Try using .loc[row_indexer,col_indexer] = value instead\n",
      "\n",
      "See the caveats in the documentation: http://pandas.pydata.org/pandas-docs/stable/indexing.html#indexing-view-versus-copy\n",
      "  This is separate from the ipykernel package so we can avoid doing imports until\n",
      "/home/mmora/anaconda3/lib/python3.7/site-packages/ipykernel_launcher.py:4: SettingWithCopyWarning: \n",
      "A value is trying to be set on a copy of a slice from a DataFrame.\n",
      "Try using .loc[row_indexer,col_indexer] = value instead\n",
      "\n",
      "See the caveats in the documentation: http://pandas.pydata.org/pandas-docs/stable/indexing.html#indexing-view-versus-copy\n",
      "  after removing the cwd from sys.path.\n"
     ]
    }
   ],
   "source": [
    "df['NumberOfImports'] = df['Imports'].str.len()\n",
    "df['NumberOfDepends'] = df['Depends'].str.len()\n",
    "df['NumberOfSuggests'] = df['Suggests'].str.len()\n",
    "df['NumberOfLinkingTo'] = df['LinkingTo'].str.len()"
   ]
  },
  {
   "cell_type": "code",
   "execution_count": 42,
   "metadata": {
    "ExecuteTime": {
     "end_time": "2019-12-31T15:58:16.013987Z",
     "start_time": "2019-12-31T15:58:16.012103Z"
    }
   },
   "outputs": [],
   "source": [
    "colnames = df.columns.tolist()"
   ]
  },
  {
   "cell_type": "code",
   "execution_count": 43,
   "metadata": {
    "ExecuteTime": {
     "end_time": "2019-12-31T15:58:20.488640Z",
     "start_time": "2019-12-31T15:58:18.507759Z"
    }
   },
   "outputs": [],
   "source": [
    "df.to_csv(\"DATA_CRAN/CRAN_DATA_20191231.csv\", header=colnames, sep=\"|\", index=False)"
   ]
  },
  {
   "cell_type": "code",
   "execution_count": null,
   "metadata": {},
   "outputs": [],
   "source": []
  }
 ],
 "metadata": {
  "kernelspec": {
   "display_name": "Python 3",
   "language": "python",
   "name": "python3"
  },
  "language_info": {
   "codemirror_mode": {
    "name": "ipython",
    "version": 3
   },
   "file_extension": ".py",
   "mimetype": "text/x-python",
   "name": "python",
   "nbconvert_exporter": "python",
   "pygments_lexer": "ipython3",
   "version": "3.7.2"
  }
 },
 "nbformat": 4,
 "nbformat_minor": 2
}
