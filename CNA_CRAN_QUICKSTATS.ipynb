{
 "cells": [
  {
   "cell_type": "code",
   "execution_count": 1,
   "metadata": {
    "ExecuteTime": {
     "end_time": "2020-03-23T22:58:56.365004Z",
     "start_time": "2020-03-23T22:58:55.789576Z"
    }
   },
   "outputs": [],
   "source": [
    "import matplotlib.pyplot as plt\n",
    "import pymongo\n",
    "import numpy as np\n",
    "import pandas as pd\n",
    "import json\n",
    "from bson import json_util, ObjectId\n",
    "import re\n",
    "import ast\n",
    "import seaborn as sns\n",
    "import matplotlib.dates as mdates\n",
    "import itertools\n",
    "import networkx as nx\n",
    "from collections import Counter\n",
    "from operator import itemgetter\n",
    "import matplotlib.pyplot as plt\n",
    "import math\n",
    "import powerlaw"
   ]
  },
  {
   "cell_type": "code",
   "execution_count": 11,
   "metadata": {
    "ExecuteTime": {
     "end_time": "2020-03-23T23:09:43.722893Z",
     "start_time": "2020-03-23T23:09:43.719957Z"
    }
   },
   "outputs": [],
   "source": [
    "def metricas_grafo_er(G):\n",
    "    GC = max(nx.connected_components(G), key=len)\n",
    "    H = G.subgraph(GC)\n",
    "    print('AVG CLUSTERING: ' + str(nx.average_clustering(H)))\n",
    "    print('AVG PATH: ' + str(nx.average_shortest_path_length(H)))"
   ]
  },
  {
   "cell_type": "code",
   "execution_count": 9,
   "metadata": {
    "ExecuteTime": {
     "end_time": "2020-03-23T23:04:39.461849Z",
     "start_time": "2020-03-23T23:04:38.231580Z"
    }
   },
   "outputs": [
    {
     "data": {
      "text/plain": [
       "'Name: \\nType: DiGraph\\nNumber of nodes: 13838\\nNumber of edges: 66574\\nAverage in degree:   4.8110\\nAverage out degree:   4.8110'"
      ]
     },
     "execution_count": 9,
     "metadata": {},
     "output_type": "execute_result"
    }
   ],
   "source": [
    "DG = nx.read_graphml(\"GRAPHS/2019-12_graph.graphml\")\n",
    "DG.remove_node('R')\n",
    "DG2 = max(nx.weakly_connected_components(DG), key=len)\n",
    "SG = DG.subgraph(DG2)\n",
    "nx.info(SG)"
   ]
  },
  {
   "cell_type": "code",
   "execution_count": 5,
   "metadata": {
    "ExecuteTime": {
     "end_time": "2020-03-23T23:02:35.602325Z",
     "start_time": "2020-03-23T23:02:31.815790Z"
    }
   },
   "outputs": [
    {
     "data": {
      "text/plain": [
       "'Name: \\nType: DiGraph\\nNumber of nodes: 13838\\nNumber of edges: 381998\\nAverage in degree:  27.6050\\nAverage out degree:  27.6050'"
      ]
     },
     "execution_count": 5,
     "metadata": {},
     "output_type": "execute_result"
    }
   ],
   "source": [
    "TG = nx.read_graphml(\"TG.graphml\")\n",
    "nx.info(TG)"
   ]
  },
  {
   "cell_type": "code",
   "execution_count": 6,
   "metadata": {
    "ExecuteTime": {
     "end_time": "2020-03-23T23:02:38.568645Z",
     "start_time": "2020-03-23T23:02:35.603514Z"
    }
   },
   "outputs": [
    {
     "data": {
      "text/plain": [
       "'Name: \\nType: DiGraph\\nNumber of nodes: 12686\\nNumber of edges: 274449\\nAverage in degree:  21.6340\\nAverage out degree:  21.6340'"
      ]
     },
     "execution_count": 6,
     "metadata": {},
     "output_type": "execute_result"
    }
   ],
   "source": [
    "TG_nobase = nx.read_graphml(\"TG_nobase.graphml\")\n",
    "nx.info(TG_nobase)"
   ]
  },
  {
   "cell_type": "code",
   "execution_count": 12,
   "metadata": {
    "ExecuteTime": {
     "end_time": "2020-03-23T23:20:17.836667Z",
     "start_time": "2020-03-23T23:09:47.390081Z"
    }
   },
   "outputs": [
    {
     "name": "stdout",
     "output_type": "stream",
     "text": [
      "AVG CLUSTERING: 0.0005829698351345347\n",
      "AVG PATH: 4.470239398581567\n"
     ]
    }
   ],
   "source": [
    "G = nx.gnm_random_graph(13838, 66574)\n",
    "metricas_grafo(G)"
   ]
  },
  {
   "cell_type": "code",
   "execution_count": 13,
   "metadata": {
    "ExecuteTime": {
     "end_time": "2020-03-24T00:07:56.110311Z",
     "start_time": "2020-03-23T23:20:24.013365Z"
    }
   },
   "outputs": [
    {
     "name": "stdout",
     "output_type": "stream",
     "text": [
      "AVG CLUSTERING: 0.003974534216149512\n",
      "AVG PATH: 2.795092446011338\n"
     ]
    }
   ],
   "source": [
    "G = nx.gnm_random_graph(13838, 381998)\n",
    "metricas_grafo(G)"
   ]
  },
  {
   "cell_type": "code",
   "execution_count": 14,
   "metadata": {
    "ExecuteTime": {
     "end_time": "2020-03-24T00:38:16.525269Z",
     "start_time": "2020-03-24T00:07:56.111552Z"
    }
   },
   "outputs": [
    {
     "name": "stdout",
     "output_type": "stream",
     "text": [
      "AVG CLUSTERING: 0.0034320280820872946\n",
      "AVG PATH: 2.8597186921283746\n"
     ]
    }
   ],
   "source": [
    "G = nx.gnm_random_graph(12686, 274449)\n",
    "metricas_grafo(G)"
   ]
  },
  {
   "cell_type": "code",
   "execution_count": null,
   "metadata": {},
   "outputs": [],
   "source": []
  }
 ],
 "metadata": {
  "kernelspec": {
   "display_name": "Python 3",
   "language": "python",
   "name": "python3"
  },
  "language_info": {
   "codemirror_mode": {
    "name": "ipython",
    "version": 3
   },
   "file_extension": ".py",
   "mimetype": "text/x-python",
   "name": "python",
   "nbconvert_exporter": "python",
   "pygments_lexer": "ipython3",
   "version": "3.7.7"
  }
 },
 "nbformat": 4,
 "nbformat_minor": 2
}
