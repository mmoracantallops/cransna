{
 "cells": [
  {
   "cell_type": "code",
   "execution_count": 1,
   "metadata": {
    "ExecuteTime": {
     "end_time": "2020-06-07T17:17:26.761014Z",
     "start_time": "2020-06-07T17:17:20.326441Z"
    }
   },
   "outputs": [],
   "source": [
    "import matplotlib.pyplot as plt\n",
    "import pymongo\n",
    "import numpy as np\n",
    "import pandas as pd\n",
    "import json\n",
    "from bson import json_util, ObjectId\n",
    "import re\n",
    "import ast\n",
    "import seaborn as sns\n",
    "import matplotlib.dates as mdates\n",
    "import itertools\n",
    "import networkx as nx\n",
    "from collections import Counter\n",
    "from operator import itemgetter\n",
    "import matplotlib.pyplot as plt\n",
    "import math\n",
    "import powerlaw"
   ]
  },
  {
   "cell_type": "code",
   "execution_count": 2,
   "metadata": {
    "ExecuteTime": {
     "end_time": "2020-06-07T17:17:30.763615Z",
     "start_time": "2020-06-07T17:17:26.766269Z"
    }
   },
   "outputs": [
    {
     "data": {
      "text/plain": [
       "'Name: \\nType: DiGraph\\nNumber of nodes: 13838\\nNumber of edges: 381998\\nAverage in degree:  27.6050\\nAverage out degree:  27.6050'"
      ]
     },
     "execution_count": 2,
     "metadata": {},
     "output_type": "execute_result"
    }
   ],
   "source": [
    "TG = nx.read_graphml(\"TG.graphml\")\n",
    "nx.info(TG)"
   ]
  },
  {
   "cell_type": "code",
   "execution_count": 3,
   "metadata": {
    "ExecuteTime": {
     "end_time": "2020-06-07T17:17:30.844560Z",
     "start_time": "2020-06-07T17:17:30.764896Z"
    }
   },
   "outputs": [],
   "source": [
    "df=pd.read_csv(\"DATA_CRAN/VERSIONS_BY_PACKAGE.csv\", header=0, sep=\"|\")"
   ]
  },
  {
   "cell_type": "code",
   "execution_count": 4,
   "metadata": {
    "ExecuteTime": {
     "end_time": "2020-06-07T17:17:30.916296Z",
     "start_time": "2020-06-07T17:17:30.846400Z"
    }
   },
   "outputs": [
    {
     "data": {
      "text/html": [
       "<div>\n",
       "<style scoped>\n",
       "    .dataframe tbody tr th:only-of-type {\n",
       "        vertical-align: middle;\n",
       "    }\n",
       "\n",
       "    .dataframe tbody tr th {\n",
       "        vertical-align: top;\n",
       "    }\n",
       "\n",
       "    .dataframe thead th {\n",
       "        text-align: right;\n",
       "    }\n",
       "</style>\n",
       "<table border=\"1\" class=\"dataframe\">\n",
       "  <thead>\n",
       "    <tr style=\"text-align: right;\">\n",
       "      <th></th>\n",
       "      <th>Package</th>\n",
       "      <th>NumberOfVersions</th>\n",
       "    </tr>\n",
       "  </thead>\n",
       "  <tbody>\n",
       "    <tr>\n",
       "      <th>0</th>\n",
       "      <td>Matrix</td>\n",
       "      <td>198</td>\n",
       "    </tr>\n",
       "    <tr>\n",
       "      <th>1</th>\n",
       "      <td>spatstat</td>\n",
       "      <td>196</td>\n",
       "    </tr>\n",
       "    <tr>\n",
       "      <th>2</th>\n",
       "      <td>mgcv</td>\n",
       "      <td>154</td>\n",
       "    </tr>\n",
       "    <tr>\n",
       "      <th>3</th>\n",
       "      <td>lattice</td>\n",
       "      <td>133</td>\n",
       "    </tr>\n",
       "    <tr>\n",
       "      <th>4</th>\n",
       "      <td>nlme</td>\n",
       "      <td>131</td>\n",
       "    </tr>\n",
       "    <tr>\n",
       "      <th>...</th>\n",
       "      <td>...</td>\n",
       "      <td>...</td>\n",
       "    </tr>\n",
       "    <tr>\n",
       "      <th>15364</th>\n",
       "      <td>pBrackets</td>\n",
       "      <td>1</td>\n",
       "    </tr>\n",
       "    <tr>\n",
       "      <th>15365</th>\n",
       "      <td>p2distance</td>\n",
       "      <td>1</td>\n",
       "    </tr>\n",
       "    <tr>\n",
       "      <th>15366</th>\n",
       "      <td>ozmaps</td>\n",
       "      <td>1</td>\n",
       "    </tr>\n",
       "    <tr>\n",
       "      <th>15367</th>\n",
       "      <td>SurrogateOutcome</td>\n",
       "      <td>1</td>\n",
       "    </tr>\n",
       "    <tr>\n",
       "      <th>15368</th>\n",
       "      <td>featuretoolsR</td>\n",
       "      <td>1</td>\n",
       "    </tr>\n",
       "  </tbody>\n",
       "</table>\n",
       "<p>15369 rows × 2 columns</p>\n",
       "</div>"
      ],
      "text/plain": [
       "                Package  NumberOfVersions\n",
       "0                Matrix               198\n",
       "1              spatstat               196\n",
       "2                  mgcv               154\n",
       "3               lattice               133\n",
       "4                  nlme               131\n",
       "...                 ...               ...\n",
       "15364         pBrackets                 1\n",
       "15365        p2distance                 1\n",
       "15366            ozmaps                 1\n",
       "15367  SurrogateOutcome                 1\n",
       "15368     featuretoolsR                 1\n",
       "\n",
       "[15369 rows x 2 columns]"
      ]
     },
     "execution_count": 4,
     "metadata": {},
     "output_type": "execute_result"
    }
   ],
   "source": [
    "df"
   ]
  },
  {
   "cell_type": "code",
   "execution_count": 5,
   "metadata": {
    "ExecuteTime": {
     "end_time": "2020-06-07T17:17:30.997634Z",
     "start_time": "2020-06-07T17:17:30.919480Z"
    }
   },
   "outputs": [],
   "source": [
    "degree_centrality = nx.degree_centrality(TG)\n",
    "DC = {k: v for k, v in sorted(degree_centrality.items(), \n",
    "                              key=lambda item: item[1], reverse = True)}"
   ]
  },
  {
   "cell_type": "code",
   "execution_count": 6,
   "metadata": {
    "ExecuteTime": {
     "end_time": "2020-06-07T17:17:31.123575Z",
     "start_time": "2020-06-07T17:17:30.998841Z"
    }
   },
   "outputs": [],
   "source": [
    "df2 = pd.DataFrame(DC.items(), columns=['Package','Centrality' ])"
   ]
  },
  {
   "cell_type": "code",
   "execution_count": 7,
   "metadata": {
    "ExecuteTime": {
     "end_time": "2020-06-07T17:17:31.331480Z",
     "start_time": "2020-06-07T17:17:31.127391Z"
    }
   },
   "outputs": [],
   "source": [
    "result = pd.merge(df, df2, how='inner',left_on='Package', right_on='Package')"
   ]
  },
  {
   "cell_type": "code",
   "execution_count": 8,
   "metadata": {
    "ExecuteTime": {
     "end_time": "2020-06-07T17:17:31.357223Z",
     "start_time": "2020-06-07T17:17:31.334704Z"
    }
   },
   "outputs": [
    {
     "data": {
      "text/html": [
       "<div>\n",
       "<style scoped>\n",
       "    .dataframe tbody tr th:only-of-type {\n",
       "        vertical-align: middle;\n",
       "    }\n",
       "\n",
       "    .dataframe tbody tr th {\n",
       "        vertical-align: top;\n",
       "    }\n",
       "\n",
       "    .dataframe thead th {\n",
       "        text-align: right;\n",
       "    }\n",
       "</style>\n",
       "<table border=\"1\" class=\"dataframe\">\n",
       "  <thead>\n",
       "    <tr style=\"text-align: right;\">\n",
       "      <th></th>\n",
       "      <th>Package</th>\n",
       "      <th>NumberOfVersions</th>\n",
       "      <th>Centrality</th>\n",
       "    </tr>\n",
       "  </thead>\n",
       "  <tbody>\n",
       "    <tr>\n",
       "      <th>0</th>\n",
       "      <td>Matrix</td>\n",
       "      <td>198</td>\n",
       "      <td>0.407241</td>\n",
       "    </tr>\n",
       "    <tr>\n",
       "      <th>1</th>\n",
       "      <td>spatstat</td>\n",
       "      <td>196</td>\n",
       "      <td>0.009323</td>\n",
       "    </tr>\n",
       "    <tr>\n",
       "      <th>2</th>\n",
       "      <td>mgcv</td>\n",
       "      <td>154</td>\n",
       "      <td>0.251066</td>\n",
       "    </tr>\n",
       "    <tr>\n",
       "      <th>3</th>\n",
       "      <td>lattice</td>\n",
       "      <td>133</td>\n",
       "      <td>0.486594</td>\n",
       "    </tr>\n",
       "    <tr>\n",
       "      <th>4</th>\n",
       "      <td>nlme</td>\n",
       "      <td>131</td>\n",
       "      <td>0.294428</td>\n",
       "    </tr>\n",
       "    <tr>\n",
       "      <th>...</th>\n",
       "      <td>...</td>\n",
       "      <td>...</td>\n",
       "      <td>...</td>\n",
       "    </tr>\n",
       "    <tr>\n",
       "      <th>13687</th>\n",
       "      <td>pCalibrate</td>\n",
       "      <td>1</td>\n",
       "      <td>0.001373</td>\n",
       "    </tr>\n",
       "    <tr>\n",
       "      <th>13688</th>\n",
       "      <td>pBrackets</td>\n",
       "      <td>1</td>\n",
       "      <td>0.000145</td>\n",
       "    </tr>\n",
       "    <tr>\n",
       "      <th>13689</th>\n",
       "      <td>ozmaps</td>\n",
       "      <td>1</td>\n",
       "      <td>0.001518</td>\n",
       "    </tr>\n",
       "    <tr>\n",
       "      <th>13690</th>\n",
       "      <td>SurrogateOutcome</td>\n",
       "      <td>1</td>\n",
       "      <td>0.000723</td>\n",
       "    </tr>\n",
       "    <tr>\n",
       "      <th>13691</th>\n",
       "      <td>featuretoolsR</td>\n",
       "      <td>1</td>\n",
       "      <td>0.006360</td>\n",
       "    </tr>\n",
       "  </tbody>\n",
       "</table>\n",
       "<p>13692 rows × 3 columns</p>\n",
       "</div>"
      ],
      "text/plain": [
       "                Package  NumberOfVersions  Centrality\n",
       "0                Matrix               198    0.407241\n",
       "1              spatstat               196    0.009323\n",
       "2                  mgcv               154    0.251066\n",
       "3               lattice               133    0.486594\n",
       "4                  nlme               131    0.294428\n",
       "...                 ...               ...         ...\n",
       "13687        pCalibrate                 1    0.001373\n",
       "13688         pBrackets                 1    0.000145\n",
       "13689            ozmaps                 1    0.001518\n",
       "13690  SurrogateOutcome                 1    0.000723\n",
       "13691     featuretoolsR                 1    0.006360\n",
       "\n",
       "[13692 rows x 3 columns]"
      ]
     },
     "execution_count": 8,
     "metadata": {},
     "output_type": "execute_result"
    }
   ],
   "source": [
    "result"
   ]
  },
  {
   "cell_type": "code",
   "execution_count": 18,
   "metadata": {
    "ExecuteTime": {
     "end_time": "2020-06-07T17:19:53.108486Z",
     "start_time": "2020-06-07T17:19:53.070132Z"
    }
   },
   "outputs": [
    {
     "data": {
      "text/html": [
       "<div>\n",
       "<style scoped>\n",
       "    .dataframe tbody tr th:only-of-type {\n",
       "        vertical-align: middle;\n",
       "    }\n",
       "\n",
       "    .dataframe tbody tr th {\n",
       "        vertical-align: top;\n",
       "    }\n",
       "\n",
       "    .dataframe thead th {\n",
       "        text-align: right;\n",
       "    }\n",
       "</style>\n",
       "<table border=\"1\" class=\"dataframe\">\n",
       "  <thead>\n",
       "    <tr style=\"text-align: right;\">\n",
       "      <th></th>\n",
       "      <th>NumberOfVersions</th>\n",
       "      <th>Centrality</th>\n",
       "    </tr>\n",
       "  </thead>\n",
       "  <tbody>\n",
       "    <tr>\n",
       "      <th>count</th>\n",
       "      <td>13692.000000</td>\n",
       "      <td>13692.000000</td>\n",
       "    </tr>\n",
       "    <tr>\n",
       "      <th>mean</th>\n",
       "      <td>6.319822</td>\n",
       "      <td>0.003644</td>\n",
       "    </tr>\n",
       "    <tr>\n",
       "      <th>std</th>\n",
       "      <td>9.617688</td>\n",
       "      <td>0.018099</td>\n",
       "    </tr>\n",
       "    <tr>\n",
       "      <th>min</th>\n",
       "      <td>1.000000</td>\n",
       "      <td>0.000072</td>\n",
       "    </tr>\n",
       "    <tr>\n",
       "      <th>25%</th>\n",
       "      <td>2.000000</td>\n",
       "      <td>0.000506</td>\n",
       "    </tr>\n",
       "    <tr>\n",
       "      <th>50%</th>\n",
       "      <td>3.000000</td>\n",
       "      <td>0.001229</td>\n",
       "    </tr>\n",
       "    <tr>\n",
       "      <th>75%</th>\n",
       "      <td>7.000000</td>\n",
       "      <td>0.003686</td>\n",
       "    </tr>\n",
       "    <tr>\n",
       "      <th>max</th>\n",
       "      <td>198.000000</td>\n",
       "      <td>0.530100</td>\n",
       "    </tr>\n",
       "  </tbody>\n",
       "</table>\n",
       "</div>"
      ],
      "text/plain": [
       "       NumberOfVersions    Centrality\n",
       "count      13692.000000  13692.000000\n",
       "mean           6.319822      0.003644\n",
       "std            9.617688      0.018099\n",
       "min            1.000000      0.000072\n",
       "25%            2.000000      0.000506\n",
       "50%            3.000000      0.001229\n",
       "75%            7.000000      0.003686\n",
       "max          198.000000      0.530100"
      ]
     },
     "execution_count": 18,
     "metadata": {},
     "output_type": "execute_result"
    }
   ],
   "source": [
    "result.describe()"
   ]
  },
  {
   "cell_type": "code",
   "execution_count": 39,
   "metadata": {
    "ExecuteTime": {
     "end_time": "2020-06-07T17:21:48.757865Z",
     "start_time": "2020-06-07T17:21:48.742192Z"
    }
   },
   "outputs": [],
   "source": [
    "result_aux = result[(result['NumberOfVersions']>10) & (result['Centrality']>0.005)]"
   ]
  },
  {
   "cell_type": "code",
   "execution_count": 40,
   "metadata": {
    "ExecuteTime": {
     "end_time": "2020-06-07T17:21:48.963540Z",
     "start_time": "2020-06-07T17:21:48.953466Z"
    }
   },
   "outputs": [
    {
     "data": {
      "text/plain": [
       "(543, 3)"
      ]
     },
     "execution_count": 40,
     "metadata": {},
     "output_type": "execute_result"
    }
   ],
   "source": [
    "result_aux.shape"
   ]
  },
  {
   "cell_type": "code",
   "execution_count": 41,
   "metadata": {
    "ExecuteTime": {
     "end_time": "2020-06-07T17:21:49.557083Z",
     "start_time": "2020-06-07T17:21:49.539001Z"
    }
   },
   "outputs": [
    {
     "data": {
      "text/plain": [
       "array([198, 196, 154, 133, 131, 131, 128, 128, 127, 120, 118, 116, 114,\n",
       "       109, 107, 104,  98,  94,  94,  93,  90,  86,  86,  85,  85,  84,\n",
       "        82,  80,  79,  78,  77,  76,  75,  73,  69,  66,  65,  64,  64,\n",
       "        63,  62,  61,  60,  59,  57,  55,  55,  54,  54,  53,  52,  52,\n",
       "        51,  51,  50,  50,  50,  50,  49,  49,  49,  48,  48,  48,  47,\n",
       "        46,  46,  46,  46,  46,  46,  45,  45,  44,  44,  43,  43,  43,\n",
       "        43,  42,  42,  42,  41,  41,  41,  41,  40,  40,  40,  40,  40,\n",
       "        39,  39,  39,  39,  38,  38,  37,  37,  37,  37,  37,  36,  36,\n",
       "        36,  36,  36,  36,  36,  36,  36,  36,  35,  35,  35,  35,  35,\n",
       "        35,  34,  34,  34,  34,  34,  34,  34,  33,  33,  33,  33,  33,\n",
       "        33,  33,  32,  32,  32,  32,  32,  32,  32,  32,  31,  31,  31,\n",
       "        31,  31,  31,  30,  30,  30,  30,  30,  30,  29,  29,  29,  29,\n",
       "        29,  29,  29,  29,  28,  28,  28,  28,  28,  28,  28,  28,  28,\n",
       "        28,  28,  27,  27,  27,  27,  27,  27,  26,  26,  26,  26,  25,\n",
       "        25,  25,  25,  25,  25,  24,  24,  24,  24,  24,  24,  24,  24,\n",
       "        24,  24,  24,  24,  24,  23,  23,  23,  23,  23,  23,  23,  23,\n",
       "        23,  23,  23,  22,  22,  22,  22,  22,  22,  22,  22,  22,  21,\n",
       "        21,  21,  21,  21,  21,  21,  21,  21,  21,  21,  21,  21,  21,\n",
       "        21,  21,  20,  20,  20,  20,  20,  20,  20,  20,  20,  20,  20,\n",
       "        20,  20,  20,  20,  20,  20,  20,  19,  19,  19,  19,  19,  19,\n",
       "        19,  19,  19,  19,  19,  18,  18,  18,  18,  18,  18,  18,  18,\n",
       "        18,  18,  18,  17,  17,  17,  17,  17,  17,  17,  17,  17,  17,\n",
       "        17,  17,  17,  17,  17,  17,  17,  17,  17,  17,  17,  17,  17,\n",
       "        17,  17,  17,  17,  16,  16,  16,  16,  16,  16,  16,  16,  16,\n",
       "        16,  16,  16,  16,  16,  16,  16,  16,  16,  16,  16,  16,  16,\n",
       "        16,  16,  16,  16,  16,  16,  16,  16,  16,  16,  16,  15,  15,\n",
       "        15,  15,  15,  15,  15,  15,  15,  15,  15,  15,  15,  15,  15,\n",
       "        15,  15,  15,  15,  15,  15,  15,  15,  15,  15,  15,  15,  15,\n",
       "        15,  15,  15,  15,  15,  15,  15,  15,  15,  14,  14,  14,  14,\n",
       "        14,  14,  14,  14,  14,  14,  14,  14,  14,  14,  14,  14,  14,\n",
       "        14,  14,  14,  14,  14,  14,  14,  14,  14,  14,  14,  14,  14,\n",
       "        14,  14,  14,  14,  14,  14,  13,  13,  13,  13,  13,  13,  13,\n",
       "        13,  13,  13,  13,  13,  13,  13,  13,  13,  13,  13,  13,  13,\n",
       "        13,  13,  13,  13,  13,  13,  13,  13,  13,  13,  13,  13,  13,\n",
       "        13,  13,  13,  13,  13,  13,  12,  12,  12,  12,  12,  12,  12,\n",
       "        12,  12,  12,  12,  12,  12,  12,  12,  12,  12,  12,  12,  12,\n",
       "        12,  12,  12,  12,  12,  12,  12,  12,  12,  12,  12,  12,  12,\n",
       "        12,  12,  12,  12,  12,  12,  12,  12,  12,  12,  12,  12,  12,\n",
       "        12,  11,  11,  11,  11,  11,  11,  11,  11,  11,  11,  11,  11,\n",
       "        11,  11,  11,  11,  11,  11,  11,  11,  11,  11,  11,  11,  11,\n",
       "        11,  11,  11,  11,  11,  11,  11,  11,  11,  11,  11,  11,  11,\n",
       "        11,  11,  11,  11,  11,  11,  11,  11,  11,  11])"
      ]
     },
     "execution_count": 41,
     "metadata": {},
     "output_type": "execute_result"
    }
   ],
   "source": [
    "result_aux['NumberOfVersions'].values"
   ]
  },
  {
   "cell_type": "code",
   "execution_count": 42,
   "metadata": {
    "ExecuteTime": {
     "end_time": "2020-06-07T17:21:50.003594Z",
     "start_time": "2020-06-07T17:21:49.987531Z"
    }
   },
   "outputs": [
    {
     "data": {
      "text/plain": [
       "LinregressResult(slope=104.7115251501773, intercept=24.777190484505685, rvalue=0.2694799275809456, pvalue=1.7307161033236131e-10, stderr=16.087865497010597)"
      ]
     },
     "execution_count": 42,
     "metadata": {},
     "output_type": "execute_result"
    }
   ],
   "source": [
    "from scipy.stats import linregress\n",
    "x = result_aux['Centrality'].values\n",
    "y = result_aux['NumberOfVersions'].values\n",
    "linregress(x,y)"
   ]
  },
  {
   "cell_type": "code",
   "execution_count": 43,
   "metadata": {
    "ExecuteTime": {
     "end_time": "2020-06-07T17:21:53.393529Z",
     "start_time": "2020-06-07T17:21:53.291477Z"
    }
   },
   "outputs": [
    {
     "name": "stdout",
     "output_type": "stream",
     "text": [
      "23.961029021185755\n",
      "0.07270037732149359\n"
     ]
    },
    {
     "data": {
      "image/png": "[encoded data removed]",
      "text/plain": [
       "<Figure size 432x288 with 1 Axes>"
      ]
     },
     "metadata": {
      "needs_background": "light"
     },
     "output_type": "display_data"
    }
   ],
   "source": [
    "poly_regression(x,y)"
   ]
  },
  {
   "cell_type": "code",
   "execution_count": 12,
   "metadata": {
    "ExecuteTime": {
     "end_time": "2020-06-07T17:18:52.031907Z",
     "start_time": "2020-06-07T17:18:51.182728Z"
    }
   },
   "outputs": [],
   "source": [
    "import operator\n",
    "\n",
    "import numpy as np\n",
    "import matplotlib.pyplot as plt\n",
    "\n",
    "from sklearn.linear_model import LinearRegression\n",
    "from sklearn.metrics import mean_squared_error, r2_score\n",
    "from sklearn.preprocessing import PolynomialFeatures\n",
    "\n",
    "def poly_regression(x,y):\n",
    "    # transforming the data to include another axis\n",
    "    x = x[:, np.newaxis]\n",
    "    y = y[:, np.newaxis]\n",
    "\n",
    "    polynomial_features= PolynomialFeatures(degree=2)\n",
    "    x_poly = polynomial_features.fit_transform(x)\n",
    "\n",
    "    model = LinearRegression()\n",
    "    model.fit(x_poly, y)\n",
    "    y_poly_pred = model.predict(x_poly)\n",
    "\n",
    "    rmse = np.sqrt(mean_squared_error(y,y_poly_pred))\n",
    "    r2 = r2_score(y,y_poly_pred)\n",
    "    print(rmse)\n",
    "    print(r2)\n",
    "\n",
    "    plt.scatter(x, y, s=10)\n",
    "    # sort the values of x before line plot\n",
    "    sort_axis = operator.itemgetter(0)\n",
    "    sorted_zip = sorted(zip(x,y_poly_pred), key=sort_axis)\n",
    "    x, y_poly_pred = zip(*sorted_zip)\n",
    "    plt.plot(x, y_poly_pred, color='m')\n",
    "    plt.show()"
   ]
  },
  {
   "cell_type": "code",
   "execution_count": 34,
   "metadata": {
    "ExecuteTime": {
     "end_time": "2020-06-06T23:51:15.948269Z",
     "start_time": "2020-06-06T23:51:15.749929Z"
    }
   },
   "outputs": [
    {
     "name": "stdout",
     "output_type": "stream",
     "text": [
      "0.9792990961295482\n",
      "0.03987653565774285\n"
     ]
    },
    {
     "data": {
      "image/png": "[encoded data removed]",
      "text/plain": [
       "<Figure size 432x288 with 1 Axes>"
      ]
     },
     "metadata": {
      "needs_background": "light"
     },
     "output_type": "display_data"
    }
   ],
   "source": []
  },
  {
   "cell_type": "code",
   "execution_count": null,
   "metadata": {},
   "outputs": [],
   "source": []
  }
 ],
 "metadata": {
  "kernelspec": {
   "display_name": "Python 3",
   "language": "python",
   "name": "python3"
  },
  "language_info": {
   "codemirror_mode": {
    "name": "ipython",
    "version": 3
   },
   "file_extension": ".py",
   "mimetype": "text/x-python",
   "name": "python",
   "nbconvert_exporter": "python",
   "pygments_lexer": "ipython3",
   "version": "3.7.7"
  }
 },
 "nbformat": 4,
 "nbformat_minor": 4
}
