{
 "cells": [
  {
   "cell_type": "code",
   "execution_count": 1,
   "metadata": {
    "ExecuteTime": {
     "end_time": "2020-03-28T11:01:36.893672Z",
     "start_time": "2020-03-28T11:01:30.817258Z"
    }
   },
   "outputs": [],
   "source": [
    "import matplotlib.pyplot as plt\n",
    "import pymongo\n",
    "import numpy as np\n",
    "import pandas as pd\n",
    "import json\n",
    "from bson import json_util, ObjectId\n",
    "import re\n",
    "import ast\n",
    "import seaborn as sns\n",
    "import matplotlib.dates as mdates\n",
    "import itertools\n",
    "import networkx as nx\n",
    "from collections import Counter\n",
    "from operator import itemgetter\n",
    "import matplotlib.pyplot as plt\n",
    "import math\n",
    "import powerlaw"
   ]
  },
  {
   "cell_type": "code",
   "execution_count": 2,
   "metadata": {
    "ExecuteTime": {
     "end_time": "2020-03-28T11:01:38.812592Z",
     "start_time": "2020-03-28T11:01:36.895039Z"
    }
   },
   "outputs": [],
   "source": [
    "import spacy\n"
   ]
  },
  {
   "cell_type": "markdown",
   "metadata": {},
   "source": [
    "('<', 2363), ('data', 1886), ('package', 1352), ('models', 1299), ('model', 1184), ('functions', 1156), (' ', 1018), ('based', 832), ('analysis', 782), ('methods', 737), ('function', 711), ('regression', 674), ('method', 574), ('distribution', 535), ('time', 526), ('et', 518), ('linear', 517), ('estimation', 503), ('al', 501), ('test', 463)]"
   ]
  },
  {
   "cell_type": "code",
   "execution_count": 17,
   "metadata": {
    "ExecuteTime": {
     "end_time": "2020-03-28T11:05:50.766275Z",
     "start_time": "2020-03-28T11:05:50.759752Z"
    }
   },
   "outputs": [],
   "source": [
    "from collections import Counter\n",
    "\n",
    "def nlp_analysis(text, n =30):\n",
    "\n",
    "    nlp = spacy.load('en_core_web_sm')\n",
    "    nlp.max_length = 2000000\n",
    "    \n",
    "    complete_text = text\n",
    "    \n",
    "    customize_stop_words = ['package', 'data', 'models', 'model', 'packages', 'R',\n",
    "                            'functions','based','function','et','al','test']\n",
    "    for w in customize_stop_words:\n",
    "        nlp.vocab[w].is_stop = True\n",
    "\n",
    "    complete_doc = nlp(complete_text)\n",
    "    # Remove stop words and punctuation symbols\n",
    "    words = [token.text for token in complete_doc\n",
    "             if not token.is_stop and not token.is_punct]\n",
    "    word_freq = Counter(words)\n",
    "    # 5 commonly occurring words with their frequencies\n",
    "    common_words = word_freq.most_common(n)\n",
    "    print (common_words)\n",
    "\n",
    "    # Unique words\n",
    "    #unique_words = [word for (word, freq) in word_freq.items() if freq == 1]\n",
    "    #print (unique_words[:20])"
   ]
  },
  {
   "cell_type": "code",
   "execution_count": 4,
   "metadata": {
    "ExecuteTime": {
     "end_time": "2020-03-28T11:01:40.372434Z",
     "start_time": "2020-03-28T11:01:38.827045Z"
    }
   },
   "outputs": [],
   "source": [
    "df = pd.read_csv('DATA_CRAN/CRAN_DATA_20191231.csv', sep='|', low_memory=False)"
   ]
  },
  {
   "cell_type": "code",
   "execution_count": 5,
   "metadata": {
    "ExecuteTime": {
     "end_time": "2020-03-28T11:01:40.489523Z",
     "start_time": "2020-03-28T11:01:40.373820Z"
    }
   },
   "outputs": [
    {
     "data": {
      "text/html": [
       "<div>\n",
       "<style scoped>\n",
       "    .dataframe tbody tr th:only-of-type {\n",
       "        vertical-align: middle;\n",
       "    }\n",
       "\n",
       "    .dataframe tbody tr th {\n",
       "        vertical-align: top;\n",
       "    }\n",
       "\n",
       "    .dataframe thead th {\n",
       "        text-align: right;\n",
       "    }\n",
       "</style>\n",
       "<table border=\"1\" class=\"dataframe\">\n",
       "  <thead>\n",
       "    <tr style=\"text-align: right;\">\n",
       "      <th></th>\n",
       "      <th>Author</th>\n",
       "      <th>Authors@R</th>\n",
       "      <th>BugReports</th>\n",
       "      <th>Date</th>\n",
       "      <th>Date/Publication</th>\n",
       "      <th>Depends</th>\n",
       "      <th>Description</th>\n",
       "      <th>Encoding</th>\n",
       "      <th>Imports</th>\n",
       "      <th>LazyData</th>\n",
       "      <th>...</th>\n",
       "      <th>releases</th>\n",
       "      <th>DatePublication</th>\n",
       "      <th>Year/Publication</th>\n",
       "      <th>Month/Publication</th>\n",
       "      <th>Day/Publication</th>\n",
       "      <th>Year_Month/Publication</th>\n",
       "      <th>NumberOfImports</th>\n",
       "      <th>NumberOfDepends</th>\n",
       "      <th>NumberOfSuggests</th>\n",
       "      <th>NumberOfLinkingTo</th>\n",
       "    </tr>\n",
       "  </thead>\n",
       "  <tbody>\n",
       "    <tr>\n",
       "      <th>0</th>\n",
       "      <td>Scott Fortmann-Roe</td>\n",
       "      <td>NaN</td>\n",
       "      <td>NaN</td>\n",
       "      <td>2013-02-06</td>\n",
       "      <td>2013-02-07 10:00:27</td>\n",
       "      <td>['xtable', 'pbapply']</td>\n",
       "      <td>This package supplies tools for tabulating and...</td>\n",
       "      <td>NaN</td>\n",
       "      <td>[]</td>\n",
       "      <td>NaN</td>\n",
       "      <td>...</td>\n",
       "      <td>['2.15.3']</td>\n",
       "      <td>2013-02-07</td>\n",
       "      <td>2013</td>\n",
       "      <td>2</td>\n",
       "      <td>7</td>\n",
       "      <td>2013-02</td>\n",
       "      <td>0</td>\n",
       "      <td>2</td>\n",
       "      <td>2</td>\n",
       "      <td>0</td>\n",
       "    </tr>\n",
       "    <tr>\n",
       "      <th>1</th>\n",
       "      <td>Scott Fortmann-Roe</td>\n",
       "      <td>NaN</td>\n",
       "      <td>NaN</td>\n",
       "      <td>2013-03-24</td>\n",
       "      <td>2013-03-26 19:58:40</td>\n",
       "      <td>['R', 'xtable', 'pbapply']</td>\n",
       "      <td>This package supplies tools for tabulating and...</td>\n",
       "      <td>NaN</td>\n",
       "      <td>[]</td>\n",
       "      <td>NaN</td>\n",
       "      <td>...</td>\n",
       "      <td>['3.0.0', '3.0.1', '3.0.2', '3.0.3', '3.1.0', ...</td>\n",
       "      <td>2013-03-26</td>\n",
       "      <td>2013</td>\n",
       "      <td>3</td>\n",
       "      <td>26</td>\n",
       "      <td>2013-03</td>\n",
       "      <td>0</td>\n",
       "      <td>3</td>\n",
       "      <td>2</td>\n",
       "      <td>0</td>\n",
       "    </tr>\n",
       "    <tr>\n",
       "      <th>2</th>\n",
       "      <td>Scott Fortmann-Roe</td>\n",
       "      <td>NaN</td>\n",
       "      <td>NaN</td>\n",
       "      <td>2015-08-15</td>\n",
       "      <td>2015-08-16 23:05:52</td>\n",
       "      <td>['R', 'xtable', 'pbapply']</td>\n",
       "      <td>Supplies tools for tabulating and analyzing th...</td>\n",
       "      <td>NaN</td>\n",
       "      <td>[]</td>\n",
       "      <td>NaN</td>\n",
       "      <td>...</td>\n",
       "      <td>[]</td>\n",
       "      <td>2015-08-16</td>\n",
       "      <td>2015</td>\n",
       "      <td>8</td>\n",
       "      <td>16</td>\n",
       "      <td>2015-08</td>\n",
       "      <td>0</td>\n",
       "      <td>3</td>\n",
       "      <td>2</td>\n",
       "      <td>0</td>\n",
       "    </tr>\n",
       "    <tr>\n",
       "      <th>3</th>\n",
       "      <td>Raja Sekhara Reddy D.M</td>\n",
       "      <td>NaN</td>\n",
       "      <td>NaN</td>\n",
       "      <td>NaN</td>\n",
       "      <td>2019-08-01 09:10:06 UTC</td>\n",
       "      <td>['R']</td>\n",
       "      <td>Given a protein multiple sequence alignment, i...</td>\n",
       "      <td>UTF-8</td>\n",
       "      <td>['DT', 'networkD3', 'shiny', 'shinydashboard',...</td>\n",
       "      <td>true</td>\n",
       "      <td>...</td>\n",
       "      <td>[]</td>\n",
       "      <td>2019-08-01</td>\n",
       "      <td>2019</td>\n",
       "      <td>8</td>\n",
       "      <td>1</td>\n",
       "      <td>2019-08</td>\n",
       "      <td>9</td>\n",
       "      <td>1</td>\n",
       "      <td>2</td>\n",
       "      <td>0</td>\n",
       "    </tr>\n",
       "    <tr>\n",
       "      <th>4</th>\n",
       "      <td>Raja Sekhara Reddy D.M</td>\n",
       "      <td>NaN</td>\n",
       "      <td>NaN</td>\n",
       "      <td>NaN</td>\n",
       "      <td>2019-11-09 16:20:02 UTC</td>\n",
       "      <td>['R']</td>\n",
       "      <td>Given a protein multiple sequence alignment, i...</td>\n",
       "      <td>UTF-8</td>\n",
       "      <td>['DT', 'networkD3', 'shiny', 'shinydashboard',...</td>\n",
       "      <td>true</td>\n",
       "      <td>...</td>\n",
       "      <td>[]</td>\n",
       "      <td>2019-11-09</td>\n",
       "      <td>2019</td>\n",
       "      <td>11</td>\n",
       "      <td>9</td>\n",
       "      <td>2019-11</td>\n",
       "      <td>9</td>\n",
       "      <td>1</td>\n",
       "      <td>2</td>\n",
       "      <td>0</td>\n",
       "    </tr>\n",
       "  </tbody>\n",
       "</table>\n",
       "<p>5 rows × 39 columns</p>\n",
       "</div>"
      ],
      "text/plain": [
       "                   Author Authors@R BugReports        Date  \\\n",
       "0      Scott Fortmann-Roe       NaN        NaN  2013-02-06   \n",
       "1      Scott Fortmann-Roe       NaN        NaN  2013-03-24   \n",
       "2      Scott Fortmann-Roe       NaN        NaN  2015-08-15   \n",
       "3  Raja Sekhara Reddy D.M       NaN        NaN         NaN   \n",
       "4  Raja Sekhara Reddy D.M       NaN        NaN         NaN   \n",
       "\n",
       "          Date/Publication                     Depends  \\\n",
       "0      2013-02-07 10:00:27       ['xtable', 'pbapply']   \n",
       "1      2013-03-26 19:58:40  ['R', 'xtable', 'pbapply']   \n",
       "2      2015-08-16 23:05:52  ['R', 'xtable', 'pbapply']   \n",
       "3  2019-08-01 09:10:06 UTC                       ['R']   \n",
       "4  2019-11-09 16:20:02 UTC                       ['R']   \n",
       "\n",
       "                                         Description Encoding  \\\n",
       "0  This package supplies tools for tabulating and...      NaN   \n",
       "1  This package supplies tools for tabulating and...      NaN   \n",
       "2  Supplies tools for tabulating and analyzing th...      NaN   \n",
       "3  Given a protein multiple sequence alignment, i...    UTF-8   \n",
       "4  Given a protein multiple sequence alignment, i...    UTF-8   \n",
       "\n",
       "                                             Imports LazyData  ...  \\\n",
       "0                                                 []      NaN  ...   \n",
       "1                                                 []      NaN  ...   \n",
       "2                                                 []      NaN  ...   \n",
       "3  ['DT', 'networkD3', 'shiny', 'shinydashboard',...     true  ...   \n",
       "4  ['DT', 'networkD3', 'shiny', 'shinydashboard',...     true  ...   \n",
       "\n",
       "                                            releases DatePublication  \\\n",
       "0                                         ['2.15.3']      2013-02-07   \n",
       "1  ['3.0.0', '3.0.1', '3.0.2', '3.0.3', '3.1.0', ...      2013-03-26   \n",
       "2                                                 []      2015-08-16   \n",
       "3                                                 []      2019-08-01   \n",
       "4                                                 []      2019-11-09   \n",
       "\n",
       "  Year/Publication Month/Publication Day/Publication Year_Month/Publication  \\\n",
       "0             2013                 2               7                2013-02   \n",
       "1             2013                 3              26                2013-03   \n",
       "2             2015                 8              16                2015-08   \n",
       "3             2019                 8               1                2019-08   \n",
       "4             2019                11               9                2019-11   \n",
       "\n",
       "  NumberOfImports NumberOfDepends NumberOfSuggests NumberOfLinkingTo  \n",
       "0               0               2                2                 0  \n",
       "1               0               3                2                 0  \n",
       "2               0               3                2                 0  \n",
       "3               9               1                2                 0  \n",
       "4               9               1                2                 0  \n",
       "\n",
       "[5 rows x 39 columns]"
      ]
     },
     "execution_count": 5,
     "metadata": {},
     "output_type": "execute_result"
    }
   ],
   "source": [
    "df.head(5)"
   ]
  },
  {
   "cell_type": "code",
   "execution_count": 6,
   "metadata": {
    "ExecuteTime": {
     "end_time": "2020-03-28T11:01:40.569318Z",
     "start_time": "2020-03-28T11:01:40.494184Z"
    }
   },
   "outputs": [],
   "source": [
    "df2 = df[[\"Package\",\"Description\"]]"
   ]
  },
  {
   "cell_type": "code",
   "execution_count": 7,
   "metadata": {
    "ExecuteTime": {
     "end_time": "2020-03-28T11:01:40.740081Z",
     "start_time": "2020-03-28T11:01:40.574365Z"
    }
   },
   "outputs": [],
   "source": [
    "df2_nd = df2.drop_duplicates(subset =\"Package\", \n",
    "                     keep = 'last', inplace = False) "
   ]
  },
  {
   "cell_type": "code",
   "execution_count": 8,
   "metadata": {
    "ExecuteTime": {
     "end_time": "2020-03-28T11:01:40.798328Z",
     "start_time": "2020-03-28T11:01:40.748148Z"
    }
   },
   "outputs": [
    {
     "data": {
      "text/html": [
       "<div>\n",
       "<style scoped>\n",
       "    .dataframe tbody tr th:only-of-type {\n",
       "        vertical-align: middle;\n",
       "    }\n",
       "\n",
       "    .dataframe tbody tr th {\n",
       "        vertical-align: top;\n",
       "    }\n",
       "\n",
       "    .dataframe thead th {\n",
       "        text-align: right;\n",
       "    }\n",
       "</style>\n",
       "<table border=\"1\" class=\"dataframe\">\n",
       "  <thead>\n",
       "    <tr style=\"text-align: right;\">\n",
       "      <th></th>\n",
       "      <th>Package</th>\n",
       "      <th>Description</th>\n",
       "    </tr>\n",
       "  </thead>\n",
       "  <tbody>\n",
       "    <tr>\n",
       "      <th>2</th>\n",
       "      <td>A3</td>\n",
       "      <td>Supplies tools for tabulating and analyzing th...</td>\n",
       "    </tr>\n",
       "    <tr>\n",
       "      <th>4</th>\n",
       "      <td>aaSEA</td>\n",
       "      <td>Given a protein multiple sequence alignment, i...</td>\n",
       "    </tr>\n",
       "    <tr>\n",
       "      <th>5</th>\n",
       "      <td>ABACUS</td>\n",
       "      <td>A set of Shiny apps for effective communicatio...</td>\n",
       "    </tr>\n",
       "    <tr>\n",
       "      <th>17</th>\n",
       "      <td>abbyyR</td>\n",
       "      <td>Get text from images of text using Abbyy Cloud...</td>\n",
       "    </tr>\n",
       "    <tr>\n",
       "      <th>28</th>\n",
       "      <td>abc</td>\n",
       "      <td>Implements several ABC algorithms for\\nperform...</td>\n",
       "    </tr>\n",
       "  </tbody>\n",
       "</table>\n",
       "</div>"
      ],
      "text/plain": [
       "   Package                                        Description\n",
       "2       A3  Supplies tools for tabulating and analyzing th...\n",
       "4    aaSEA  Given a protein multiple sequence alignment, i...\n",
       "5   ABACUS  A set of Shiny apps for effective communicatio...\n",
       "17  abbyyR  Get text from images of text using Abbyy Cloud...\n",
       "28     abc  Implements several ABC algorithms for\\nperform..."
      ]
     },
     "execution_count": 8,
     "metadata": {},
     "output_type": "execute_result"
    }
   ],
   "source": [
    "df2_nd.head()"
   ]
  },
  {
   "cell_type": "code",
   "execution_count": 10,
   "metadata": {
    "ExecuteTime": {
     "end_time": "2020-03-28T11:01:49.035383Z",
     "start_time": "2020-03-28T11:01:48.976963Z"
    }
   },
   "outputs": [],
   "source": [
    "import pickle\n",
    "with open ('outfile', 'rb') as fp:\n",
    "    itemlist = pickle.load(fp)"
   ]
  },
  {
   "cell_type": "code",
   "execution_count": 11,
   "metadata": {
    "ExecuteTime": {
     "end_time": "2020-03-28T11:01:49.396027Z",
     "start_time": "2020-03-28T11:01:49.389216Z"
    }
   },
   "outputs": [
    {
     "data": {
      "text/plain": [
       "['fontBitstreamVera', 'fontLiberation', 'fontquiver', 'freetypeharfbuzz']"
      ]
     },
     "execution_count": 11,
     "metadata": {},
     "output_type": "execute_result"
    }
   ],
   "source": [
    "itemlist[16]"
   ]
  },
  {
   "cell_type": "code",
   "execution_count": 12,
   "metadata": {
    "ExecuteTime": {
     "end_time": "2020-03-28T11:01:55.050622Z",
     "start_time": "2020-03-28T11:01:55.047033Z"
    }
   },
   "outputs": [],
   "source": [
    "df3 = df2_nd[df2_nd[\"Package\"].isin(itemlist[16])]"
   ]
  },
  {
   "cell_type": "code",
   "execution_count": 13,
   "metadata": {
    "ExecuteTime": {
     "end_time": "2020-03-28T11:01:55.219937Z",
     "start_time": "2020-03-28T11:01:55.213168Z"
    }
   },
   "outputs": [],
   "source": [
    "text = ''\n",
    "for index, row in df3.iterrows():\n",
    "    descr = row[1].replace(\"'\",'').replace('\"','')\\\n",
    "                                       .replace('&','').replace(':','')\\\n",
    "                                       .replace('\\n',' ').replace('`','')\n",
    "    text = text + descr + ' '"
   ]
  },
  {
   "cell_type": "code",
   "execution_count": 14,
   "metadata": {
    "ExecuteTime": {
     "end_time": "2020-03-28T11:01:56.529202Z",
     "start_time": "2020-03-28T11:01:56.524133Z"
    }
   },
   "outputs": [
    {
     "data": {
      "text/plain": [
       "'Provides fonts licensed under the Bitstream Vera Fonts license for the fontquiver package. A placeholder for the Liberation fontset intended for the fontquiver package. This fontset covers the 12 combinations of families (sans, serif, mono) and faces (plain, bold, italic, bold italic) supported in R graphics devices. Provides a set of fonts with permissive licences. This is useful when you want to avoid system fonts to make sure your outputs are reproducible. Unlike other tools that dynamically link to the Cairo stack, freetypeharfbuzz is statically linked to specific versions of the FreeType and harfbuzz libraries (2.9 and 1.7.6 respectively). This ensures deterministic computation of text box extents for situations where reproducible results are crucial (for instance unit tests of graphics). '"
      ]
     },
     "execution_count": 14,
     "metadata": {},
     "output_type": "execute_result"
    }
   ],
   "source": [
    "text"
   ]
  },
  {
   "cell_type": "code",
   "execution_count": 15,
   "metadata": {
    "ExecuteTime": {
     "end_time": "2020-03-28T11:02:01.256931Z",
     "start_time": "2020-03-28T11:02:00.119267Z"
    }
   },
   "outputs": [
    {
     "name": "stdout",
     "output_type": "stream",
     "text": [
      "[('fonts', 3), ('Provides', 2), ('fontquiver', 2), ('fontset', 2), ('bold', 2), ('italic', 2), ('graphics', 2), ('reproducible', 2), ('licensed', 1), ('Bitstream', 1), ('Vera', 1), ('Fonts', 1), ('license', 1), ('placeholder', 1), ('Liberation', 1), ('intended', 1), ('covers', 1), ('12', 1), ('combinations', 1), ('families', 1), ('sans', 1), ('serif', 1), ('mono', 1), ('faces', 1), ('plain', 1), ('supported', 1), ('devices', 1), ('set', 1), ('permissive', 1), ('licences', 1)]\n"
     ]
    }
   ],
   "source": [
    "nlp_analysis(text)"
   ]
  },
  {
   "cell_type": "code",
   "execution_count": 60,
   "metadata": {
    "ExecuteTime": {
     "end_time": "2020-03-27T00:11:09.511954Z",
     "start_time": "2020-03-27T00:11:09.503101Z"
    }
   },
   "outputs": [],
   "source": []
  },
  {
   "cell_type": "code",
   "execution_count": 16,
   "metadata": {
    "ExecuteTime": {
     "end_time": "2020-03-28T11:03:35.533836Z",
     "start_time": "2020-03-28T11:02:07.634539Z"
    }
   },
   "outputs": [
    {
     "name": "stdout",
     "output_type": "stream",
     "text": [
      "0\n",
      "ABC.RAP\n",
      "[('analysis', 784), ('methods', 735), ('regression', 671), ('method', 574), ('distribution', 533), ('time', 525), ('linear', 517), ('estimation', 502), ('distributions', 380), ('algorithm', 339), ('variables', 338), ('provides', 323), ('random', 323), ('likelihood', 323), ('effects', 321), ('tests', 311), ('multiple', 309), ('set', 307), ('parameters', 305), ('Provides', 297), ('multivariate', 291), ('sample', 287), ('non', 274), ('values', 269), ('generalized', 266), ('number', 264), ('provided', 262), ('Functions', 259), ('different', 255), ('estimates', 251)]\n",
      "None\n",
      "1\n",
      "shiny\n",
      "[('API', 542), ('information', 372), ('provides', 364), ('Provides', 352), ('analysis', 338), ('interface', 308), ('files', 300), ('use', 275), ('time', 273), ('methods', 213), ('user', 211), ('provided', 210), ('tools', 206), ('file', 196), ('text', 193), ('code', 191), ('including', 190), ('set', 190), ('access', 189), ('allows', 180), ('available', 174), ('format', 170), ('web', 170), ('plots', 168), ('objects', 162), ('users', 159), ('results', 158), ('create', 150), ('interactive', 146), ('different', 140)]\n",
      "None\n",
      "2\n",
      "A3\n",
      "[('methods', 365), ('regression', 364), ('algorithm', 291), ('analysis', 286), ('method', 257), ('selection', 230), ('linear', 217), ('time', 187), ('variables', 168), ('classification', 166), ('provides', 164), ('estimation', 159), ('matrix', 158), ('set', 157), ('multiple', 155), ('variable', 148), ('algorithms', 147), ('implementation', 146), ('clustering', 145), ('information', 145), ('random', 138), ('dimensional', 138), ('Provides', 136), ('high', 135), ('2018', 132), ('values', 130), ('described', 122), ('2017', 121), ('use', 117), ('including', 113)]\n",
      "None\n",
      "3\n",
      "fields\n",
      "[('spatial', 262), ('analysis', 159), ('methods', 153), ('time', 146), ('tools', 123), ('maps', 113), ('provides', 108), ('Provides', 101), ('point', 94), ('files', 84), ('raster', 83), ('different', 83), ('Functions', 82), ('map', 82), ('species', 80), ('provided', 79), ('information', 78), ('series', 74), ('set', 73), ('available', 72), ('use', 72), ('images', 70), ('method', 69), ('temporal', 65), ('distribution', 64), ('image', 64), ('plots', 64), ('processing', 63), ('user', 61), ('process', 59)]\n",
      "None\n",
      "4\n",
      "xtable\n",
      "[('analysis', 268), ('plots', 124), ('methods', 121), ('time', 116), ('plot', 112), ('method', 107), ('provides', 105), ('set', 102), ('multiple', 87), ('Provides', 83), ('variables', 81), ('including', 80), ('regression', 77), ('values', 74), ('use', 69), ('ggplot2', 68), ('tools', 67), ('information', 66), ('different', 65), ('algorithm', 64), ('linear', 64), ('provided', 63), ('statistics', 61), ('sets', 61), ('results', 61), ('tests', 60), ('variable', 59), ('user', 59), ('number', 59), ('statistical', 57)]\n",
      "None\n",
      "5\n",
      "ABCoptim\n",
      "[('Bayesian', 243), ('algorithm', 188), ('analysis', 152), ('methods', 132), ('time', 115), ('C++', 111), ('method', 111), ('regression', 109), ('distribution', 106), ('estimation', 104), ('Provides', 100), ('linear', 98), ('provides', 97), ('number', 95), ('implementation', 92), ('set', 85), ('library', 85), ('2018', 85), ('described', 84), ('use', 82), ('MCMC', 82), ('provided', 82), ('multivariate', 74), ('random', 72), ('sampling', 69), ('likelihood', 69), ('algorithms', 68), ('information', 68), ('2017', 67), ('2019', 65)]\n",
      "None\n",
      "6\n",
      "ACMEeqtl\n",
      "[('methods', 155), ('time', 123), ('analysis', 118), ('regression', 99), ('linear', 97), ('provides', 83), ('set', 81), ('algorithm', 78), ('use', 76), ('Provides', 76), ('series', 66), ('variables', 64), ('method', 64), ('different', 61), ('estimation', 61), ('provided', 60), ('classes', 57), ('matrix', 56), ('interface', 55), ('robust', 53), ('including', 52), ('algorithms', 51), ('allows', 49), ('tests', 49), ('described', 49), ('problems', 49), ('distribution', 48), ('non', 47), ('user', 47), ('sets', 47)]\n",
      "None\n",
      "7\n",
      "AWR\n",
      "[('text', 66), ('provides', 64), ('API', 63), ('analysis', 63), ('interface', 57), ('information', 52), ('Provides', 49), ('files', 46), ('Java', 42), ('use', 36), ('methods', 35), ('user', 35), ('time', 34), ('allows', 32), ('format', 32), ('code', 29), ('access', 28), ('R.', 28), ('web', 27), ('tools', 25), ('available', 24), ('provided', 23), ('users', 23), ('file', 23), ('set', 23), ('algorithm', 23), ('service', 22), ('number', 22), ('including', 21), ('objects', 21)]\n",
      "None\n",
      "8\n",
      "gtools\n",
      "[('phylogenetic', 103), ('analysis', 98), ('species', 76), ('methods', 72), ('trees', 68), ('tree', 56), ('diversity', 48), ('time', 47), ('provides', 40), ('community', 39), ('trait', 37), ('multiple', 36), ('Functions', 35), ('tests', 34), ('likelihood', 33), ('method', 33), ('set', 33), ('different', 33), ('number', 33), ('matrix', 32), ('estimation', 31), ('analyses', 30), ('Provides', 30), ('information', 30), ('distance', 29), ('phylogeny', 29), ('doi10.1093', 28), ('described', 27), ('tools', 27), ('algorithm', 26)]\n",
      "None\n",
      "9\n",
      "zoo\n",
      "[('time', 165), ('series', 149), ('analysis', 68), ('methods', 55), ('method', 48), ('regression', 42), ('Provides', 40), ('provides', 36), ('wavelet', 32), ('estimation', 31), ('available', 30), ('multivariate', 30), ('algorithm', 29), ('distribution', 29), ('linear', 28), ('financial', 27), ('2017', 24), ('provided', 24), ('number', 23), ('tools', 23), ('non', 22), ('parameters', 22), ('file', 22), ('sample', 22), ('approach', 22), ('components', 22), ('use', 21), ('distributions', 21), ('user', 21), ('includes', 21)]\n",
      "None\n",
      "10\n",
      "ACNE\n",
      "[('analysis', 55), ('gene', 50), ('set', 44), ('method', 42), ('methods', 40), ('number', 37), ('expression', 33), ('genes', 29), ('sample', 28), ('provides', 28), ('multiple', 26), ('files', 24), ('linear', 22), ('different', 21), ('high', 21), ('Provides', 20), ('e.g.', 20), ('information', 20), ('doi10.1093', 20), ('genomic', 20), ('use', 19), ('time', 18), ('values', 18), ('RNA', 18), ('effect', 17), ('selection', 17), ('output', 17), ('user', 17), ('sets', 16), ('studies', 16)]\n",
      "None\n",
      "11\n",
      "rgl\n",
      "[('analysis', 72), ('GUI', 50), ('methods', 41), ('user', 38), ('graphical', 33), ('interface', 32), ('provides', 32), ('statistical', 29), ('Provides', 28), ('plot', 26), ('method', 23), ('multiple', 22), ('use', 21), ('3D', 20), ('plots', 20), ('including', 20), ('effects', 19), ('tools', 18), ('optimal', 18), ('algorithm', 18), ('clustering', 17), ('number', 17), ('values', 17), ('linear', 16), ('means', 16), ('Functions', 16), ('time', 16), ('algorithms', 16), ('Rcmdr', 16), ('R.', 15)]\n",
      "None\n",
      "12\n",
      "igraph\n",
      "[('network', 105), ('networks', 62), ('analysis', 40), ('methods', 39), ('algorithm', 36), ('random', 27), ('graph', 27), ('gene', 25), ('clustering', 20), ('set', 20), ('graphs', 19), ('time', 17), ('Network', 17), ('2017', 17), ('weighted', 15), ('Provides', 15), ('cluster', 15), ('provides', 15), ('plot', 14), ('nodes', 14), ('different', 14), ('Models', 14), ('method', 14), ('statistical', 14), ('exponential', 13), ('implemented', 13), ('centrality', 13), ('igraph', 13), ('multiple', 13), ('tools', 13)]\n",
      "None\n",
      "13\n",
      "moments\n",
      "[('distribution', 28), ('J.', 28), ('designs', 24), ('S.', 23), ('doi10.3168', 20), ('tests', 19), ('non', 17), ('analysis', 16), ('random', 15), ('provides', 15), ('methods', 15), ('polynomials', 15), ('method', 14), ('time', 14), ('included', 14), ('given', 14), ('doi10.1017', 13), ('jds', 13), ('S0022', 13), ('Provides', 12), ('linear', 12), ('response', 12), ('number', 12), ('1', 12), ('tools', 12), ('3', 12), ('code', 12), ('2015', 12), ('2012', 12), ('P.', 12)]\n",
      "None\n",
      "14\n",
      "backports\n",
      "[('methods', 25), ('regression', 19), ('learning', 18), ('problems', 15), ('algorithm', 14), ('optimization', 14), ('machine', 14), ('mlr3', 14), ('analysis', 13), ('objective', 13), ('Provides', 12), ('selection', 12), ('performance', 12), ('set', 12), ('different', 12), ('use', 11), ('estimation', 11), ('algorithms', 11), ('sets', 10), ('feature', 10), ('support', 9), ('simulation', 9), ('approach', 9), ('features', 9), ('classification', 9), ('linear', 9), ('parameter', 9), ('measures', 9), ('sensitivity', 9), ('implemented', 8)]\n",
      "None\n",
      "15\n",
      "fastmatch\n",
      "[('including', 14), ('Amazon', 14), ('Web', 14), ('Interface', 13), ('Services', 13), ('APIs', 11), ('https//aws.amazon.com/.', 10), ('piece', 10), ('Service', 8), ('readable', 7), ('code', 7), ('service', 7), ('files', 6), ('time', 6), ('Simple', 6), ('human', 6), ('objects', 5), ('Date', 5), ('use', 5), ('databases', 5), ('information', 5), ('fast', 5), ('provides', 5), ('methods', 5), ('database', 5), ('Build', 5), ('regular', 5), ('expressions', 5), ('harmonics', 5), ('handling', 4)]\n",
      "None\n",
      "16\n",
      "fontBitstreamVera\n"
     ]
    },
    {
     "name": "stdout",
     "output_type": "stream",
     "text": [
      "[('fonts', 3), ('Provides', 2), ('fontquiver', 2), ('fontset', 2), ('bold', 2), ('italic', 2), ('graphics', 2), ('reproducible', 2), ('licensed', 1), ('Bitstream', 1), ('Vera', 1), ('Fonts', 1), ('license', 1), ('placeholder', 1), ('Liberation', 1), ('intended', 1), ('covers', 1), ('12', 1), ('combinations', 1), ('families', 1), ('sans', 1), ('serif', 1), ('mono', 1), ('faces', 1), ('plain', 1), ('supported', 1), ('devices', 1), ('set', 1), ('permissive', 1), ('licences', 1)]\n",
      "None\n"
     ]
    }
   ],
   "source": [
    "for i in range(0,17):\n",
    "    print(i)\n",
    "    print(itemlist[i][0])\n",
    "    df3 = df2_nd[df2_nd[\"Package\"].isin(itemlist[i])]\n",
    "    \n",
    "    text = ''\n",
    "    for index, row in df3.iterrows():\n",
    "        descr = row[1].replace(\"'\",'').replace('\"','')\\\n",
    "                                       .replace('&','').replace(':','').replace('  ',' ')\\\n",
    "                                       .replace('\\n',' ').replace('`','').replace('>','').replace('<','')\n",
    "        text = text + descr + ' '\n",
    "    print(nlp_analysis(text))"
   ]
  },
  {
   "cell_type": "code",
   "execution_count": 22,
   "metadata": {
    "ExecuteTime": {
     "end_time": "2020-03-28T15:44:43.341020Z",
     "start_time": "2020-03-28T15:44:41.624780Z"
    }
   },
   "outputs": [
    {
     "name": "stdout",
     "output_type": "stream",
     "text": [
      "[('analysis', 72), ('GUI', 50), ('methods', 41), ('user', 38), ('graphical', 33), ('interface', 32), ('provides', 32), ('statistical', 29), ('Provides', 28), ('plot', 26), ('method', 23), ('multiple', 22), ('use', 21), ('3D', 20), ('plots', 20), ('including', 20), ('effects', 19), ('tools', 18), ('optimal', 18), ('algorithm', 18), ('clustering', 17), ('number', 17), ('values', 17), ('linear', 16), ('means', 16), ('Functions', 16), ('time', 16), ('algorithms', 16), ('Rcmdr', 16), ('R.', 15), ('set', 15), ('random', 15), ('series', 15), ('3', 14), ('approach', 14), ('distance', 14), ('variables', 14), ('designs', 14), ('dimensional', 13), ('multivariate', 13), ('statistics', 13), ('2016', 13), ('format', 13), ('visualization', 13), ('implementation', 13), ('tests', 13), ('matrix', 13), ('regression', 13), ('level', 13), ('interactive', 13)]\n",
      "None\n"
     ]
    }
   ],
   "source": [
    "df3 = df2_nd[df2_nd[\"Package\"].isin(itemlist[11])]\n",
    "    \n",
    "text = ''\n",
    "for index, row in df3.iterrows():\n",
    "    descr = row[1].replace(\"'\",'').replace('\"','')\\\n",
    "                                       .replace('&','').replace(':','').replace('  ',' ')\\\n",
    "                                       .replace('\\n',' ').replace('`','').replace('>','').replace('<','')\n",
    "    text = text + descr + ' '\n",
    "print(nlp_analysis(text,50))"
   ]
  },
  {
   "cell_type": "code",
   "execution_count": null,
   "metadata": {},
   "outputs": [],
   "source": []
  }
 ],
 "metadata": {
  "kernelspec": {
   "display_name": "Python 3",
   "language": "python",
   "name": "python3"
  },
  "language_info": {
   "codemirror_mode": {
    "name": "ipython",
    "version": 3
   },
   "file_extension": ".py",
   "mimetype": "text/x-python",
   "name": "python",
   "nbconvert_exporter": "python",
   "pygments_lexer": "ipython3",
   "version": "3.7.7"
  }
 },
 "nbformat": 4,
 "nbformat_minor": 2
}
