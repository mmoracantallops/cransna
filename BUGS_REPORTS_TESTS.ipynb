{
 "cells": [
  {
   "cell_type": "code",
   "execution_count": 1,
   "metadata": {},
   "outputs": [
    {
     "data": {
      "text/html": [
       "<style> body { font-family: \"Times New Roman\"} </style>\n"
      ],
      "text/plain": [
       "<IPython.core.display.HTML object>"
      ]
     },
     "metadata": {},
     "output_type": "display_data"
    }
   ],
   "source": [
    "%%html\n",
    "<style> body { font-family: \"Times New Roman\"} </style>"
   ]
  },
  {
   "cell_type": "code",
   "execution_count": 2,
   "metadata": {},
   "outputs": [],
   "source": [
    "import pandas as pd"
   ]
  },
  {
   "cell_type": "code",
   "execution_count": 3,
   "metadata": {},
   "outputs": [
    {
     "data": {
      "text/plain": [
       "(87912, 48)"
      ]
     },
     "execution_count": 3,
     "metadata": {},
     "output_type": "execute_result"
    }
   ],
   "source": [
    "df = pd.read_csv('DATA_CRAN/CRAN_DATA.csv', sep='|', low_memory=False)\n",
    "df.shape"
   ]
  },
  {
   "cell_type": "code",
   "execution_count": 4,
   "metadata": {},
   "outputs": [],
   "source": [
    "df['BugReports'] = df['BugReports'].str.replace('https//','https://')\n",
    "df['BugReports'] = df['BugReports'].str.replace('http//','http://')\n",
    "df['BugReports'] = df['BugReports'].str.replace('\\n','')"
   ]
  },
  {
   "cell_type": "markdown",
   "metadata": {},
   "source": [
    "Obtenemos la última versíón de cada paquete"
   ]
  },
  {
   "cell_type": "code",
   "execution_count": 5,
   "metadata": {},
   "outputs": [],
   "source": [
    "df_lv = df.dropna(subset=['DatePublication']).copy()\n",
    "df_lv.set_index([\"Package\"], inplace=True)\n",
    "df_lv.sort_values('DatePublication', ascending=False, inplace=True)"
   ]
  },
  {
   "cell_type": "code",
   "execution_count": 6,
   "metadata": {},
   "outputs": [
    {
     "data": {
      "text/plain": [
       "(14891, 48)"
      ]
     },
     "execution_count": 6,
     "metadata": {},
     "output_type": "execute_result"
    }
   ],
   "source": [
    "def last_version_package_by_year(df):\n",
    "    return df.iloc[[0]]\n",
    "\n",
    "# Con la fecha de publicación ordenada, se agrupa por paquete para obtener la última versión publicada del paquete\n",
    "dfl_lv = df_lv.groupby(level=[0], group_keys=False).apply(last_version_package_by_year)\n",
    "dfl_lv = dfl_lv.reset_index()\n",
    "dfl_lv.shape"
   ]
  },
  {
   "cell_type": "markdown",
   "metadata": {},
   "source": [
    "Url de *bugs* reportados"
   ]
  },
  {
   "cell_type": "code",
   "execution_count": 7,
   "metadata": {},
   "outputs": [
    {
     "data": {
      "text/plain": [
       "(4677, 2)"
      ]
     },
     "execution_count": 7,
     "metadata": {},
     "output_type": "execute_result"
    }
   ],
   "source": [
    "BUGS = dfl_lv[['Package','BugReports']].dropna()\n",
    "BUGS.shape"
   ]
  },
  {
   "cell_type": "code",
   "execution_count": 8,
   "metadata": {},
   "outputs": [
    {
     "data": {
      "text/html": [
       "<div>\n",
       "<style scoped>\n",
       "    .dataframe tbody tr th:only-of-type {\n",
       "        vertical-align: middle;\n",
       "    }\n",
       "\n",
       "    .dataframe tbody tr th {\n",
       "        vertical-align: top;\n",
       "    }\n",
       "\n",
       "    .dataframe thead th {\n",
       "        text-align: right;\n",
       "    }\n",
       "</style>\n",
       "<table border=\"1\" class=\"dataframe\">\n",
       "  <thead>\n",
       "    <tr style=\"text-align: right;\">\n",
       "      <th></th>\n",
       "      <th>Package</th>\n",
       "      <th>BugReports</th>\n",
       "    </tr>\n",
       "  </thead>\n",
       "  <tbody>\n",
       "    <tr>\n",
       "      <th>5</th>\n",
       "      <td>ABHgenotypeR</td>\n",
       "      <td>http://github.com/StefanReuscher/ABHgenotypeR/...</td>\n",
       "    </tr>\n",
       "    <tr>\n",
       "      <th>12</th>\n",
       "      <td>ACMEeqtl</td>\n",
       "      <td>https://github.com/andreyshabalin/ACMEeqtl/issues</td>\n",
       "    </tr>\n",
       "    <tr>\n",
       "      <th>13</th>\n",
       "      <td>ACNE</td>\n",
       "      <td>https://github.com/HenrikBengtsson/ACNE/issues</td>\n",
       "    </tr>\n",
       "    <tr>\n",
       "      <th>23</th>\n",
       "      <td>ADMMsigma</td>\n",
       "      <td>https://github.com/MGallow/ADMMsigma/issues</td>\n",
       "    </tr>\n",
       "    <tr>\n",
       "      <th>25</th>\n",
       "      <td>ADPclust</td>\n",
       "      <td>https://github.com/ethanyxu/ADPclust/issues</td>\n",
       "    </tr>\n",
       "  </tbody>\n",
       "</table>\n",
       "</div>"
      ],
      "text/plain": [
       "         Package                                         BugReports\n",
       "5   ABHgenotypeR  http://github.com/StefanReuscher/ABHgenotypeR/...\n",
       "12      ACMEeqtl  https://github.com/andreyshabalin/ACMEeqtl/issues\n",
       "13          ACNE     https://github.com/HenrikBengtsson/ACNE/issues\n",
       "23     ADMMsigma        https://github.com/MGallow/ADMMsigma/issues\n",
       "25      ADPclust        https://github.com/ethanyxu/ADPclust/issues"
      ]
     },
     "execution_count": 8,
     "metadata": {},
     "output_type": "execute_result"
    }
   ],
   "source": [
    "BUGS.head()"
   ]
  },
  {
   "cell_type": "code",
   "execution_count": 9,
   "metadata": {},
   "outputs": [],
   "source": [
    "regex_ex = r'(.*://\\w+[.|]\\w+/)' # Extrae la cadena dentro de los caracteres []\n",
    "BUGS['BugProtocol'] = BUGS['BugReports'].str.extract(regex_ex, expand=True)\n",
    "BUGS.dropna(inplace=True)"
   ]
  },
  {
   "cell_type": "markdown",
   "metadata": {},
   "source": [
    "Repositorios en donde se registras los Bugs"
   ]
  },
  {
   "cell_type": "code",
   "execution_count": 10,
   "metadata": {
    "scrolled": true
   },
   "outputs": [
    {
     "data": {
      "text/html": [
       "<div>\n",
       "<style scoped>\n",
       "    .dataframe tbody tr th:only-of-type {\n",
       "        vertical-align: middle;\n",
       "    }\n",
       "\n",
       "    .dataframe tbody tr th {\n",
       "        vertical-align: top;\n",
       "    }\n",
       "\n",
       "    .dataframe thead th {\n",
       "        text-align: right;\n",
       "    }\n",
       "</style>\n",
       "<table border=\"1\" class=\"dataframe\">\n",
       "  <thead>\n",
       "    <tr style=\"text-align: right;\">\n",
       "      <th></th>\n",
       "      <th>BugReports</th>\n",
       "    </tr>\n",
       "    <tr>\n",
       "      <th>BugProtocol</th>\n",
       "      <th></th>\n",
       "    </tr>\n",
       "  </thead>\n",
       "  <tbody>\n",
       "    <tr>\n",
       "      <th>http://github.com/</th>\n",
       "      <td>298</td>\n",
       "    </tr>\n",
       "    <tr>\n",
       "      <th>http://rfaqs.com/</th>\n",
       "      <td>3</td>\n",
       "    </tr>\n",
       "    <tr>\n",
       "      <th>https://bitbucket.com/</th>\n",
       "      <td>2</td>\n",
       "    </tr>\n",
       "    <tr>\n",
       "      <th>https://bitbucket.org/</th>\n",
       "      <td>62</td>\n",
       "    </tr>\n",
       "    <tr>\n",
       "      <th>https://github.com/</th>\n",
       "      <td>4115</td>\n",
       "    </tr>\n",
       "    <tr>\n",
       "      <th>https://gitlab.com/</th>\n",
       "      <td>44</td>\n",
       "    </tr>\n",
       "    <tr>\n",
       "      <th>https://goo.gl/</th>\n",
       "      <td>1</td>\n",
       "    </tr>\n",
       "    <tr>\n",
       "      <th>https://notabug.org/</th>\n",
       "      <td>2</td>\n",
       "    </tr>\n",
       "    <tr>\n",
       "      <th>https://sourceforge.net/</th>\n",
       "      <td>2</td>\n",
       "    </tr>\n",
       "    <tr>\n",
       "      <th>https://stackoverflow.com/</th>\n",
       "      <td>1</td>\n",
       "    </tr>\n",
       "  </tbody>\n",
       "</table>\n",
       "</div>"
      ],
      "text/plain": [
       "                            BugReports\n",
       "BugProtocol                           \n",
       "http://github.com/                 298\n",
       "http://rfaqs.com/                    3\n",
       "https://bitbucket.com/               2\n",
       "https://bitbucket.org/              62\n",
       "https://github.com/               4115\n",
       "https://gitlab.com/                 44\n",
       "https://goo.gl/                      1\n",
       "https://notabug.org/                 2\n",
       "https://sourceforge.net/             2\n",
       "https://stackoverflow.com/           1"
      ]
     },
     "execution_count": 10,
     "metadata": {},
     "output_type": "execute_result"
    }
   ],
   "source": [
    "BUGS.groupby('BugProtocol')[['BugReports']].count()"
   ]
  },
  {
   "cell_type": "markdown",
   "metadata": {},
   "source": [
    "Extraemos el número de Bugs de los paquetes"
   ]
  },
  {
   "cell_type": "code",
   "execution_count": 349,
   "metadata": {},
   "outputs": [],
   "source": [
    "from time import sleep, time\n",
    "from multiprocessing import Pool, cpu_count\n",
    "from bs4 import BeautifulSoup\n",
    "import requests\n",
    "import urllib.request\n",
    "import datetime\n",
    "import json\n",
    "import asyncio, re\n",
    "from aiohttp import ClientSession\n",
    "loop = asyncio.get_event_loop()"
   ]
  },
  {
   "cell_type": "code",
   "execution_count": 398,
   "metadata": {
    "scrolled": true
   },
   "outputs": [
    {
     "name": "stdout",
     "output_type": "stream",
     "text": [
      "Elapsed run time: 2.7179718017578125e-05 seconds\n",
      "1\n",
      "1\n",
      "1\n",
      "1\n",
      "1\n",
      "1\n",
      "1\n",
      "1\n"
     ]
    }
   ],
   "source": [
    "MAX_SIM_CONNS = 100\n",
    "\n",
    "async def fetch(url, pkg, protocol, session):\n",
    "    async with session.get(url) as response:\n",
    "         text = await response.read()\n",
    "    \n",
    "    data = {}\n",
    "    soup = BeautifulSoup(text, \"lxml\")\n",
    "    \n",
    "    if (protocol == 'https://github.com/'):\n",
    "        data['Repository'] = 'https://github.com/'\n",
    "        for main in soup.findAll('main'):\n",
    "            pkg = main.findAll('strong', itemprop=\"name\")\n",
    "            print(len(pkg))\n",
    "            if (len(pkg) > 0):\n",
    "                numBugs = main.find('span', class_='Counter')\n",
    "\n",
    "                if numBugs != None:\n",
    "                    data['Package'] = pkg[0].get_text()\n",
    "                    data['Bugs'] = numBugs.get_text()\n",
    "                else:\n",
    "                    data['Package'] = pkg[0].get_text()\n",
    "                    data['Bugs'] = 0\n",
    "    \n",
    "    if (protocol == 'http://github.com/'):\n",
    "        \n",
    "        for main in soup.findAll('main'):\n",
    "            pkg = main.findAll('strong', itemprop=\"name\")\n",
    "            data['Repository'] = 'http://github.com/'\n",
    "            if (len(pkg) > 0):\n",
    "                numBugs = main.find('span', class_='Counter')\n",
    "\n",
    "                if numBugs != None:\n",
    "                    data['Package'] = pkg[0].get_text()\n",
    "                    data['Bugs'] = numBugs.get_text()\n",
    "                else:\n",
    "                    data['Package'] = pkg[0].get_text()\n",
    "                    data['Bugs'] = 0\n",
    "\n",
    "    if (protocol == 'https://bitbucket.org/'):\n",
    "        #data['Package'] = pkg\n",
    "        numBugs = soup.find('span', class_='secondary')\n",
    "        \n",
    "        if numBugs != None:\n",
    "            value = numBugs.get_text()\n",
    "            data['Bugs'] = value.replace(r'(\\d+.*(of )|\\)|\\()','').strip()\n",
    "        else:\n",
    "            data['Bugs'] = 0\n",
    "    \n",
    "    if (protocol == 'https://gitlab.com/'):\n",
    "        #data['Package'] = pkg\n",
    "        numBugs = soup.find('span', class_='issue_counter')\n",
    "        if numBugs != None:\n",
    "            data['Bugs'] = numBugs.get_text().replace(r'\\n','').strip()\n",
    "        else:\n",
    "            data['Bugs'] = 0\n",
    "\n",
    "    return data\n",
    "\n",
    "df_Bugs = []\n",
    "\n",
    "async def bound_fetch(sem, url, pkg, protocol, session):\n",
    "    async with sem:\n",
    "        res = await fetch(url, pkg, protocol, session)\n",
    "        df_Bugs.append(res)\n",
    "        \n",
    "async def fetch_all():\n",
    "    tasks = set()\n",
    "    async with ClientSession() as session:\n",
    "        sem = asyncio.Semaphore(MAX_SIM_CONNS)\n",
    "        \n",
    "        for index, row in BUGS.iterrows(): # all\n",
    "        #for index, row in BUGS[BUGS['Package']=='ggplot2'].iterrows(): # all\n",
    "            url_pkg = row['BugReports']\n",
    "            pkg = row['Package']\n",
    "            protocol = row['BugProtocol']\n",
    "            \n",
    "            task = asyncio.create_task(bound_fetch(sem, url_pkg, pkg, protocol, session))\n",
    "            tasks.add(task)\n",
    "        \n",
    "            #await asyncio.sleep(1)\n",
    "        return await asyncio.gather(*tasks)\n",
    "\n",
    "if __name__ == '__main__':\n",
    "    start_time = time()\n",
    "    \n",
    "    loop = asyncio.get_event_loop()\n",
    "    loop.create_task(fetch_all())\n",
    "    \n",
    "    end_time = time()\n",
    "    elapsed_time = end_time - start_time\n",
    "    \n",
    "print(f'Elapsed run time: {elapsed_time} seconds')"
   ]
  },
  {
   "cell_type": "code",
   "execution_count": 404,
   "metadata": {},
   "outputs": [
    {
     "data": {
      "text/plain": [
       "1671"
      ]
     },
     "execution_count": 404,
     "metadata": {},
     "output_type": "execute_result"
    }
   ],
   "source": [
    "len(df_Bugs)"
   ]
  },
  {
   "cell_type": "code",
   "execution_count": 405,
   "metadata": {},
   "outputs": [
    {
     "data": {
      "text/plain": [
       "(1717, 3)"
      ]
     },
     "execution_count": 405,
     "metadata": {},
     "output_type": "execute_result"
    }
   ],
   "source": [
    "dfl_B = pd.DataFrame.from_dict(df_Bugs)\n",
    "dfl_B.shape"
   ]
  },
  {
   "cell_type": "code",
   "execution_count": 406,
   "metadata": {},
   "outputs": [
    {
     "data": {
      "text/plain": [
       "Bugs          1162\n",
       "Package       1209\n",
       "Repository     142\n",
       "dtype: int64"
      ]
     },
     "execution_count": 406,
     "metadata": {},
     "output_type": "execute_result"
    }
   ],
   "source": [
    "dfl_B.isna().sum()"
   ]
  },
  {
   "cell_type": "code",
   "execution_count": 407,
   "metadata": {},
   "outputs": [
    {
     "data": {
      "text/html": [
       "<div>\n",
       "<style scoped>\n",
       "    .dataframe tbody tr th:only-of-type {\n",
       "        vertical-align: middle;\n",
       "    }\n",
       "\n",
       "    .dataframe tbody tr th {\n",
       "        vertical-align: top;\n",
       "    }\n",
       "\n",
       "    .dataframe thead th {\n",
       "        text-align: right;\n",
       "    }\n",
       "</style>\n",
       "<table border=\"1\" class=\"dataframe\">\n",
       "  <thead>\n",
       "    <tr style=\"text-align: right;\">\n",
       "      <th></th>\n",
       "      <th>Bugs</th>\n",
       "      <th>Package</th>\n",
       "      <th>Repository</th>\n",
       "    </tr>\n",
       "  </thead>\n",
       "  <tbody>\n",
       "    <tr>\n",
       "      <th>0</th>\n",
       "      <td>2</td>\n",
       "      <td>bh</td>\n",
       "      <td>https://github.com/</td>\n",
       "    </tr>\n",
       "    <tr>\n",
       "      <th>1</th>\n",
       "      <td>0</td>\n",
       "      <td>Bclim</td>\n",
       "      <td>https://github.com/</td>\n",
       "    </tr>\n",
       "    <tr>\n",
       "      <th>2</th>\n",
       "      <td>1</td>\n",
       "      <td>BIGDAWG</td>\n",
       "      <td>https://github.com/</td>\n",
       "    </tr>\n",
       "    <tr>\n",
       "      <th>3</th>\n",
       "      <td>0</td>\n",
       "      <td>AGD</td>\n",
       "      <td>https://github.com/</td>\n",
       "    </tr>\n",
       "    <tr>\n",
       "      <th>4</th>\n",
       "      <td>6</td>\n",
       "      <td>CGPfunctions</td>\n",
       "      <td>https://github.com/</td>\n",
       "    </tr>\n",
       "  </tbody>\n",
       "</table>\n",
       "</div>"
      ],
      "text/plain": [
       "  Bugs       Package           Repository\n",
       "0    2            bh  https://github.com/\n",
       "1    0         Bclim  https://github.com/\n",
       "2    1       BIGDAWG  https://github.com/\n",
       "3    0           AGD  https://github.com/\n",
       "4    6  CGPfunctions  https://github.com/"
      ]
     },
     "execution_count": 407,
     "metadata": {},
     "output_type": "execute_result"
    }
   ],
   "source": [
    "dfl_B.head()"
   ]
  },
  {
   "cell_type": "code",
   "execution_count": 408,
   "metadata": {},
   "outputs": [],
   "source": [
    "colnames = dfl_B.columns.tolist()\n",
    "dfl_B.to_csv(\"DATA_CRAN/BUGS_REPORTS.csv\", header=colnames, sep=\"|\", index=False)"
   ]
  },
  {
   "cell_type": "code",
   "execution_count": 409,
   "metadata": {},
   "outputs": [
    {
     "data": {
      "text/html": [
       "<div>\n",
       "<style scoped>\n",
       "    .dataframe tbody tr th:only-of-type {\n",
       "        vertical-align: middle;\n",
       "    }\n",
       "\n",
       "    .dataframe tbody tr th {\n",
       "        vertical-align: top;\n",
       "    }\n",
       "\n",
       "    .dataframe thead th {\n",
       "        text-align: right;\n",
       "    }\n",
       "</style>\n",
       "<table border=\"1\" class=\"dataframe\">\n",
       "  <thead>\n",
       "    <tr style=\"text-align: right;\">\n",
       "      <th></th>\n",
       "      <th>Package</th>\n",
       "      <th>BugReports</th>\n",
       "      <th>BugProtocol</th>\n",
       "    </tr>\n",
       "  </thead>\n",
       "  <tbody>\n",
       "    <tr>\n",
       "      <th>8064</th>\n",
       "      <td>ggplot2</td>\n",
       "      <td>https://github.com/tidyverse/ggplot2/issues</td>\n",
       "      <td>https://github.com/</td>\n",
       "    </tr>\n",
       "  </tbody>\n",
       "</table>\n",
       "</div>"
      ],
      "text/plain": [
       "      Package                                   BugReports  \\\n",
       "8064  ggplot2  https://github.com/tidyverse/ggplot2/issues   \n",
       "\n",
       "              BugProtocol  \n",
       "8064  https://github.com/  "
      ]
     },
     "execution_count": 409,
     "metadata": {},
     "output_type": "execute_result"
    }
   ],
   "source": [
    "BUGS[BUGS['Package']=='ggplot2']"
   ]
  },
  {
   "cell_type": "code",
   "execution_count": null,
   "metadata": {},
   "outputs": [],
   "source": []
  },
  {
   "cell_type": "code",
   "execution_count": null,
   "metadata": {},
   "outputs": [],
   "source": []
  },
  {
   "cell_type": "code",
   "execution_count": null,
   "metadata": {},
   "outputs": [],
   "source": []
  }
 ],
 "metadata": {
  "kernelspec": {
   "display_name": "Python 3",
   "language": "python",
   "name": "python3"
  },
  "language_info": {
   "codemirror_mode": {
    "name": "ipython",
    "version": 3
   },
   "file_extension": ".py",
   "mimetype": "text/x-python",
   "name": "python",
   "nbconvert_exporter": "python",
   "pygments_lexer": "ipython3",
   "version": "3.7.3"
  }
 },
 "nbformat": 4,
 "nbformat_minor": 2
}
