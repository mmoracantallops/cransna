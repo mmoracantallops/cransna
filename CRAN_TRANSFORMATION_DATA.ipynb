{
 "cells": [
  {
   "cell_type": "code",
   "execution_count": 1,
   "metadata": {},
   "outputs": [
    {
     "data": {
      "text/html": [
       "<style> body { font-family: \"Times New Roman\"} </style>   \n"
      ],
      "text/plain": [
       "<IPython.core.display.HTML object>"
      ]
     },
     "metadata": {},
     "output_type": "display_data"
    }
   ],
   "source": [
    "%%html\n",
    "<style> body { font-family: \"Times New Roman\"} </style>   "
   ]
  },
  {
   "cell_type": "markdown",
   "metadata": {},
   "source": [
    "<center>\n",
    "    <br>\n",
    "    <span style=\"color: #001a33; font-size: 1.6em;\">ANÁLISIS EXPLORATORIO DE METADATOS DE LOS PAQUETES R ALMACENADOS EN CRAN</span>\n",
    "    <br>\n",
    "    <br>\n",
    "</center>"
   ]
  },
  {
   "cell_type": "markdown",
   "metadata": {},
   "source": [
    "1. <a href='#section1.0'>Introducción</a><br/>\n",
    "2. <a href='#section2.0'>Carga de datos</a><br/>\n",
    "3. <a href='#section3.0'>Preparación de los datos</a><br/>\n",
    "4. <a href='#section4.0'>Exploración de datos</a><br/>"
   ]
  },
  {
   "cell_type": "markdown",
   "metadata": {},
   "source": [
    "<a id='section1.0'></a>\n",
    "# 1. Introducción"
   ]
  },
  {
   "cell_type": "markdown",
   "metadata": {},
   "source": [
    "El conjunto de datos fue extraído utilizando una API de acceso a los metadatos de la base de datos de CRAN que se encuentra en el siguiente repositorio https://github.com/r-hub/crandb. El código utilizado para la extracción está en un Script R, y tiene la funcionalidad de guardar los datos extraídos en una base de datos MongoDB.\n",
    "\n",
    "A continuación se describen algunas de las variables de nuestro conjunto de datos:\n",
    "\n",
    "- **Package**: Nombre del paquete\n",
    "- **Type**: Tipo de paquete, generalmente “Package”\n",
    "- **Title**: Es una descripción de una línea del paquete\n",
    "- **Version**: Versión del paquete\n",
    "- **Date**: Es un valor en formato fecha, no se conoce que representa\n",
    "- **Author**: Identifica al autor o autores del paquete\n",
    "- **Maintainer**: Identifica al mantenedor del paquete\n",
    "- **Description**: Es un descripción más extensa del paquete\n",
    "- **License**: Especifica la licencia del paquete, generalmente suele ser una abreviatura estándar de una licencia de código abierto, como MIT, GPL-2 o BSD\n",
    "- **Depends**: Especifica la versión de R que requiere el paquete. Pero antes del despliegue de namespaces en R 2.14.0 en este campo se especificaban las dependencias a otros paquetes\n",
    "- **Suggests**: Especifica los paquetes que puede usar el paquete, pero no son necesariamente requeridos\n",
    "- **Imports**: Especifica los paquetes que deben estar presentes para que el pa-quete funcione\n",
    "- **NeedsCompilation**: Si el paquete necesita compilación\n",
    "- **Packaged**: Fecha de empaquetado\n",
    "- **Repository**: Nombre del repositorio\n",
    "- **Date/Publication**: Fecha de publicación del paquete\n",
    "- **crandb_file_date**: Fecha en la que se actualizó el fichero de descripción del paquete"
   ]
  },
  {
   "cell_type": "code",
   "execution_count": 2,
   "metadata": {},
   "outputs": [
    {
     "name": "stdout",
     "output_type": "stream",
     "text": [
      "3.7.3\n"
     ]
    }
   ],
   "source": [
    "from platform import python_version\n",
    "print(python_version())"
   ]
  },
  {
   "cell_type": "code",
   "execution_count": 3,
   "metadata": {},
   "outputs": [],
   "source": [
    "from pandas.io.json import json_normalize\n",
    "from bson import json_util, ObjectId\n",
    "import matplotlib.pyplot as plt\n",
    "import numpy as np\n",
    "import pandas as pd\n",
    "import pymongo\n",
    "import json\n",
    "import re"
   ]
  },
  {
   "cell_type": "markdown",
   "metadata": {},
   "source": [
    "<a id='section2.0'></a>\n",
    "# 2. Carga de datos"
   ]
  },
  {
   "cell_type": "markdown",
   "metadata": {},
   "source": [
    "Conexión a la base de datos donde están los metadatos de los paquetes R del repositorio CRAN"
   ]
  },
  {
   "cell_type": "code",
   "execution_count": 4,
   "metadata": {},
   "outputs": [],
   "source": [
    "mongo = pymongo.MongoClient(\"mongodb://localhost:27017/\")\n",
    "database = mongo[\"DB_CRAN\"]\n",
    "collection = database[\"R_packages\"]"
   ]
  },
  {
   "cell_type": "markdown",
   "metadata": {},
   "source": [
    "Extración de documentos JSON"
   ]
  },
  {
   "cell_type": "code",
   "execution_count": 5,
   "metadata": {},
   "outputs": [
    {
     "name": "stdout",
     "output_type": "stream",
     "text": [
      "HAY 14890 DOCUMENTOS\n"
     ]
    }
   ],
   "source": [
    "collection_packages = list(collection.find({}, {'_id': False}))\n",
    "\n",
    "packages = []\n",
    "for c in collection_packages:\n",
    "    packages.append(json.loads(json_util.dumps(c)))\n",
    "      \n",
    "print(f'HAY {len(packages)} DOCUMENTOS')"
   ]
  },
  {
   "cell_type": "markdown",
   "metadata": {},
   "source": [
    "Cada documento contiene metadatos de un paquete. Para cada uno se especifica el nombre del paquete, descripción, última versión del paquete, y las versiones del paquete como un subdocumento con información de cada versión."
   ]
  },
  {
   "cell_type": "code",
   "execution_count": 6,
   "metadata": {},
   "outputs": [
    {
     "data": {
      "text/plain": [
       "{'A3': {'_id': ['A3'],\n",
       "  '_rev': ['5-b7e2fc1ff5bb5e68d8eafa1d948d9e34'],\n",
       "  'name': ['A3'],\n",
       "  'versions': {'0_9_1': {'Package': ['A3'],\n",
       "    'Type': ['Package'],\n",
       "    'Title': ['A3: Accurate, Adaptable, and Accessible Error Metrics for<U+000a>Predictive Models'],\n",
       "    'Version': ['0.9.1'],\n",
       "    'Date': ['2013-02-06'],\n",
       "    'Author': ['Scott Fortmann-Roe'],\n",
       "    'Maintainer': ['Scott Fortmann-Roe <scottfr@berkeley.edu>'],\n",
       "    'Description': ['This package supplies tools for tabulating and analyzing<U+000a>the results of predictive models. The methods employed are<U+000a>applicable to virtually any predictive model and make<U+000a>comparisons between different methodologies straightforward.'],\n",
       "    'License': ['GPL (>= 2)'],\n",
       "    'Depends': {'xtable': ['*'], 'pbapply': ['*']},\n",
       "    'Suggests': {'randomForest': ['*'], 'e1071': ['*']},\n",
       "    'Packaged': ['2013-02-06 16:46:12 UTC; scott'],\n",
       "    'Repository': ['CRAN'],\n",
       "    'Date/Publication': ['2013-02-07 10:00:27'],\n",
       "    'crandb_file_date': ['2013-02-07 04:00:29'],\n",
       "    'date': ['2013-02-07T10:00:27+00:00'],\n",
       "    'releases': ['2.15.3']},\n",
       "   '0_9_2': {'Package': ['A3'],\n",
       "    'Type': ['Package'],\n",
       "    'Title': ['A3: Accurate, Adaptable, and Accessible Error Metrics for<U+000a>Predictive Models'],\n",
       "    'Version': ['0.9.2'],\n",
       "    'Date': ['2013-03-24'],\n",
       "    'Author': ['Scott Fortmann-Roe'],\n",
       "    'Maintainer': ['Scott Fortmann-Roe <scottfr@berkeley.edu>'],\n",
       "    'Description': ['This package supplies tools for tabulating and analyzing<U+000a>the results of predictive models. The methods employed are<U+000a>applicable to virtually any predictive model and make<U+000a>comparisons between different methodologies straightforward.'],\n",
       "    'License': ['GPL (>= 2)'],\n",
       "    'Depends': {'R': ['>= 2.15.0'], 'xtable': ['*'], 'pbapply': ['*']},\n",
       "    'Suggests': {'randomForest': ['*'], 'e1071': ['*']},\n",
       "    'Packaged': ['2013-03-26 18:58:12 UTC; scott'],\n",
       "    'Repository': ['CRAN'],\n",
       "    'Date/Publication': ['2013-03-26 19:58:40'],\n",
       "    'crandb_file_date': ['2013-03-26 14:58:40'],\n",
       "    'NeedsCompilation': ['no'],\n",
       "    'date': ['2013-03-26T19:58:40+00:00'],\n",
       "    'releases': ['3.0.0', '3.0.1', '3.0.2', '3.0.3', '3.1.0', '3.1.1']},\n",
       "   '1_0_0': {'Package': ['A3'],\n",
       "    'Type': ['Package'],\n",
       "    'Title': ['Accurate, Adaptable, and Accessible Error Metrics for Predictive\\nModels'],\n",
       "    'Version': ['1.0.0'],\n",
       "    'Date': ['2015-08-15'],\n",
       "    'Author': ['Scott Fortmann-Roe'],\n",
       "    'Maintainer': ['Scott Fortmann-Roe <scottfr@berkeley.edu>'],\n",
       "    'Description': ['Supplies tools for tabulating and analyzing the results of predictive models. The methods employed are applicable to virtually any predictive model and make comparisons between different methodologies straightforward.'],\n",
       "    'License': ['GPL (>= 2)'],\n",
       "    'Depends': {'R': ['>= 2.15.0'], 'xtable': ['*'], 'pbapply': ['*']},\n",
       "    'Suggests': {'randomForest': ['*'], 'e1071': ['*']},\n",
       "    'NeedsCompilation': ['no'],\n",
       "    'Packaged': ['2015-08-16 14:17:33 UTC; scott'],\n",
       "    'Repository': ['CRAN'],\n",
       "    'Date/Publication': ['2015-08-16 23:05:52'],\n",
       "    'crandb_file_date': ['2015-08-16 17:08:22'],\n",
       "    'date': ['2015-08-16T23:05:52+00:00'],\n",
       "    'releases': []}},\n",
       "  'timeline': {'0_9_1': ['2013-02-07T10:00:27+00:00'],\n",
       "   '0_9_2': ['2013-03-26T19:58:40+00:00'],\n",
       "   '1_0_0': ['2015-08-16T23:05:52+00:00']},\n",
       "  'latest': ['1.0.0'],\n",
       "  'title': ['Accurate, Adaptable, and Accessible Error Metrics for Predictive\\nModels'],\n",
       "  'archived': [False]}}"
      ]
     },
     "execution_count": 6,
     "metadata": {},
     "output_type": "execute_result"
    }
   ],
   "source": [
    "packages[0]"
   ]
  },
  {
   "cell_type": "markdown",
   "metadata": {},
   "source": [
    "<a id='section3.0'></a>\n",
    "# 3. Preparación de los datos"
   ]
  },
  {
   "cell_type": "markdown",
   "metadata": {},
   "source": [
    "Se extrae en una lista todos los nombres de los paquetes"
   ]
  },
  {
   "cell_type": "code",
   "execution_count": 7,
   "metadata": {},
   "outputs": [
    {
     "name": "stdout",
     "output_type": "stream",
     "text": [
      "['A3', 'aaSEA', 'abbyyR', 'abc', 'abc_data', 'ABC_RAP', 'ABCanalysis', 'abcdeFBA', 'ABCoptim', 'ABCp2', 'abcrf', 'abctools', 'abd', 'abe', 'abf2', 'ABHgenotypeR', 'abind', 'abjutils', 'abn', 'abnormality']\n"
     ]
    }
   ],
   "source": [
    "list_pkgs = []\n",
    "for i in packages:\n",
    "    for k, v in i.items():\n",
    "        list_pkgs.append(k)\n",
    "        \n",
    "print(list_pkgs[0:20])"
   ]
  },
  {
   "cell_type": "markdown",
   "metadata": {},
   "source": [
    "A continuación se extraen el subdocumento \"versions\" de cada paquete, el mismo contiene la información de las versiones del paquete"
   ]
  },
  {
   "cell_type": "code",
   "execution_count": 8,
   "metadata": {},
   "outputs": [],
   "source": [
    "versions = []\n",
    "con = 0\n",
    "\n",
    "for i in list_pkgs:\n",
    "    if (con <= len(packages)):\n",
    "        versions.append(packages[con][i]['versions'])\n",
    "        con = con + 1\n",
    "#versions[0]"
   ]
  },
  {
   "cell_type": "markdown",
   "metadata": {},
   "source": [
    "Creamos en un diccionario de listas con la información de todas las versiones de cada paquete"
   ]
  },
  {
   "cell_type": "code",
   "execution_count": 9,
   "metadata": {},
   "outputs": [
    {
     "data": {
      "text/plain": [
       "{'Package': ['A3'],\n",
       " 'Type': ['Package'],\n",
       " 'Title': ['A3: Accurate, Adaptable, and Accessible Error Metrics for<U+000a>Predictive Models'],\n",
       " 'Version': ['0.9.1'],\n",
       " 'Date': ['2013-02-06'],\n",
       " 'Author': ['Scott Fortmann-Roe'],\n",
       " 'Maintainer': ['Scott Fortmann-Roe <scottfr@berkeley.edu>'],\n",
       " 'Description': ['This package supplies tools for tabulating and analyzing<U+000a>the results of predictive models. The methods employed are<U+000a>applicable to virtually any predictive model and make<U+000a>comparisons between different methodologies straightforward.'],\n",
       " 'License': ['GPL (>= 2)'],\n",
       " 'Depends': {'xtable': ['*'], 'pbapply': ['*']},\n",
       " 'Suggests': {'randomForest': ['*'], 'e1071': ['*']},\n",
       " 'Packaged': ['2013-02-06 16:46:12 UTC; scott'],\n",
       " 'Repository': ['CRAN'],\n",
       " 'Date/Publication': ['2013-02-07 10:00:27'],\n",
       " 'crandb_file_date': ['2013-02-07 04:00:29'],\n",
       " 'date': ['2013-02-07T10:00:27+00:00'],\n",
       " 'releases': ['2.15.3']}"
      ]
     },
     "execution_count": 9,
     "metadata": {},
     "output_type": "execute_result"
    }
   ],
   "source": [
    "versions_pkgs = []\n",
    "\n",
    "for i in versions:\n",
    "    for k, v in i.items():\n",
    "        versions_pkgs.append(v)\n",
    "\n",
    "versions_pkgs[0]"
   ]
  },
  {
   "cell_type": "markdown",
   "metadata": {},
   "source": [
    "Como se puede observar el valor de cada clave es una lista de un solo elemento, y en otras la clave es un diccionario con listas. El siguiente fragmento de código se utiliza para tratar estos datos, dejando para cada clave un valor *String* o *Diccionario*. Además extraemos y añadimos a cada paquete la versión de R si se especifica"
   ]
  },
  {
   "cell_type": "code",
   "execution_count": 10,
   "metadata": {},
   "outputs": [],
   "source": [
    "results = []\n",
    "\n",
    "for i in versions_pkgs:\n",
    "    pkg = {}\n",
    "    for k, v in i.items():\n",
    "        if isinstance(v, dict):\n",
    "            value = [l for l in v ]\n",
    "            version = [''.join(l) for l in v.values() ]\n",
    "            \n",
    "            pkg[k] = value\n",
    "            \n",
    "            for version_R, version in zip(value, version):\n",
    "                if version_R == \"R\":\n",
    "                    pkg.update({ \"Version_\" + version_R :''.join(version) })\n",
    "                    \n",
    "        elif isinstance(v, list):\n",
    "            if len(v) <= 1 and k != \"releases\":\n",
    "                pkg[k] = ''.join(v)\n",
    "            else:\n",
    "                pkg[k] = v\n",
    "    results.append(json.loads(json_util.dumps(pkg)))"
   ]
  },
  {
   "cell_type": "code",
   "execution_count": 11,
   "metadata": {},
   "outputs": [
    {
     "data": {
      "text/plain": [
       "{'Package': 'A3',\n",
       " 'Type': 'Package',\n",
       " 'Title': 'A3: Accurate, Adaptable, and Accessible Error Metrics for<U+000a>Predictive Models',\n",
       " 'Version': '0.9.1',\n",
       " 'Date': '2013-02-06',\n",
       " 'Author': 'Scott Fortmann-Roe',\n",
       " 'Maintainer': 'Scott Fortmann-Roe <scottfr@berkeley.edu>',\n",
       " 'Description': 'This package supplies tools for tabulating and analyzing<U+000a>the results of predictive models. The methods employed are<U+000a>applicable to virtually any predictive model and make<U+000a>comparisons between different methodologies straightforward.',\n",
       " 'License': 'GPL (>= 2)',\n",
       " 'Depends': ['xtable', 'pbapply'],\n",
       " 'Suggests': ['randomForest', 'e1071'],\n",
       " 'Packaged': '2013-02-06 16:46:12 UTC; scott',\n",
       " 'Repository': 'CRAN',\n",
       " 'Date/Publication': '2013-02-07 10:00:27',\n",
       " 'crandb_file_date': '2013-02-07 04:00:29',\n",
       " 'date': '2013-02-07T10:00:27+00:00',\n",
       " 'releases': ['2.15.3']}"
      ]
     },
     "execution_count": 11,
     "metadata": {},
     "output_type": "execute_result"
    }
   ],
   "source": [
    "results[0]"
   ]
  },
  {
   "cell_type": "markdown",
   "metadata": {},
   "source": [
    "Tabulamos los documentos JSON, utilizando la función json_normalize"
   ]
  },
  {
   "cell_type": "code",
   "execution_count": 12,
   "metadata": {},
   "outputs": [],
   "source": [
    "df = pd.DataFrame(json_normalize(results))"
   ]
  },
  {
   "cell_type": "code",
   "execution_count": 13,
   "metadata": {},
   "outputs": [
    {
     "data": {
      "text/html": [
       "<div>\n",
       "<style scoped>\n",
       "    .dataframe tbody tr th:only-of-type {\n",
       "        vertical-align: middle;\n",
       "    }\n",
       "\n",
       "    .dataframe tbody tr th {\n",
       "        vertical-align: top;\n",
       "    }\n",
       "\n",
       "    .dataframe thead th {\n",
       "        text-align: right;\n",
       "    }\n",
       "</style>\n",
       "<table border=\"1\" class=\"dataframe\">\n",
       "  <thead>\n",
       "    <tr style=\"text-align: right;\">\n",
       "      <th></th>\n",
       "      <th>Package</th>\n",
       "      <th>Type</th>\n",
       "      <th>Title</th>\n",
       "      <th>Version</th>\n",
       "      <th>Date</th>\n",
       "      <th>Author</th>\n",
       "      <th>Maintainer</th>\n",
       "      <th>Description</th>\n",
       "      <th>License</th>\n",
       "      <th>Depends</th>\n",
       "      <th>...</th>\n",
       "      <th>Twitter</th>\n",
       "      <th>Co-author</th>\n",
       "      <th>Saveimage</th>\n",
       "      <th>SystemRequirement</th>\n",
       "      <th>Versionnote</th>\n",
       "      <th>Classification_ACM</th>\n",
       "      <th>ReleaseDate</th>\n",
       "      <th>xxxLazyLoad</th>\n",
       "      <th>Github URL</th>\n",
       "      <th>Github</th>\n",
       "    </tr>\n",
       "  </thead>\n",
       "  <tbody>\n",
       "    <tr>\n",
       "      <th>0</th>\n",
       "      <td>A3</td>\n",
       "      <td>Package</td>\n",
       "      <td>A3: Accurate, Adaptable, and Accessible Error ...</td>\n",
       "      <td>0.9.1</td>\n",
       "      <td>2013-02-06</td>\n",
       "      <td>Scott Fortmann-Roe</td>\n",
       "      <td>Scott Fortmann-Roe &lt;scottfr@berkeley.edu&gt;</td>\n",
       "      <td>This package supplies tools for tabulating and...</td>\n",
       "      <td>GPL (&gt;= 2)</td>\n",
       "      <td>[xtable, pbapply]</td>\n",
       "      <td>...</td>\n",
       "      <td>NaN</td>\n",
       "      <td>NaN</td>\n",
       "      <td>NaN</td>\n",
       "      <td>NaN</td>\n",
       "      <td>NaN</td>\n",
       "      <td>NaN</td>\n",
       "      <td>NaN</td>\n",
       "      <td>NaN</td>\n",
       "      <td>NaN</td>\n",
       "      <td>NaN</td>\n",
       "    </tr>\n",
       "    <tr>\n",
       "      <th>1</th>\n",
       "      <td>A3</td>\n",
       "      <td>Package</td>\n",
       "      <td>A3: Accurate, Adaptable, and Accessible Error ...</td>\n",
       "      <td>0.9.2</td>\n",
       "      <td>2013-03-24</td>\n",
       "      <td>Scott Fortmann-Roe</td>\n",
       "      <td>Scott Fortmann-Roe &lt;scottfr@berkeley.edu&gt;</td>\n",
       "      <td>This package supplies tools for tabulating and...</td>\n",
       "      <td>GPL (&gt;= 2)</td>\n",
       "      <td>[R, xtable, pbapply]</td>\n",
       "      <td>...</td>\n",
       "      <td>NaN</td>\n",
       "      <td>NaN</td>\n",
       "      <td>NaN</td>\n",
       "      <td>NaN</td>\n",
       "      <td>NaN</td>\n",
       "      <td>NaN</td>\n",
       "      <td>NaN</td>\n",
       "      <td>NaN</td>\n",
       "      <td>NaN</td>\n",
       "      <td>NaN</td>\n",
       "    </tr>\n",
       "    <tr>\n",
       "      <th>2</th>\n",
       "      <td>A3</td>\n",
       "      <td>Package</td>\n",
       "      <td>Accurate, Adaptable, and Accessible Error Metr...</td>\n",
       "      <td>1.0.0</td>\n",
       "      <td>2015-08-15</td>\n",
       "      <td>Scott Fortmann-Roe</td>\n",
       "      <td>Scott Fortmann-Roe &lt;scottfr@berkeley.edu&gt;</td>\n",
       "      <td>Supplies tools for tabulating and analyzing th...</td>\n",
       "      <td>GPL (&gt;= 2)</td>\n",
       "      <td>[R, xtable, pbapply]</td>\n",
       "      <td>...</td>\n",
       "      <td>NaN</td>\n",
       "      <td>NaN</td>\n",
       "      <td>NaN</td>\n",
       "      <td>NaN</td>\n",
       "      <td>NaN</td>\n",
       "      <td>NaN</td>\n",
       "      <td>NaN</td>\n",
       "      <td>NaN</td>\n",
       "      <td>NaN</td>\n",
       "      <td>NaN</td>\n",
       "    </tr>\n",
       "    <tr>\n",
       "      <th>3</th>\n",
       "      <td>aaSEA</td>\n",
       "      <td>Package</td>\n",
       "      <td>Amino Acid Substitution Effect Analyser</td>\n",
       "      <td>1.0.0</td>\n",
       "      <td>NaN</td>\n",
       "      <td>Raja Sekhara Reddy D.M</td>\n",
       "      <td>Raja Sekhara Reddy D.M &lt;raja.duvvuru@gmail.com&gt;</td>\n",
       "      <td>Given a protein multiple sequence alignment, i...</td>\n",
       "      <td>GPL-3</td>\n",
       "      <td>[R]</td>\n",
       "      <td>...</td>\n",
       "      <td>NaN</td>\n",
       "      <td>NaN</td>\n",
       "      <td>NaN</td>\n",
       "      <td>NaN</td>\n",
       "      <td>NaN</td>\n",
       "      <td>NaN</td>\n",
       "      <td>NaN</td>\n",
       "      <td>NaN</td>\n",
       "      <td>NaN</td>\n",
       "      <td>NaN</td>\n",
       "    </tr>\n",
       "    <tr>\n",
       "      <th>4</th>\n",
       "      <td>abbyyR</td>\n",
       "      <td>NaN</td>\n",
       "      <td>Access to Abbyy Optical Character Recognition ...</td>\n",
       "      <td>0.1</td>\n",
       "      <td>NaN</td>\n",
       "      <td>Gaurav Sood [aut, cre]</td>\n",
       "      <td>Gaurav Sood &lt;gsood07@gmail.com&gt;</td>\n",
       "      <td>Get text from images of text using Abbyy Cloud...</td>\n",
       "      <td>GPL (&gt;= 2)</td>\n",
       "      <td>[R]</td>\n",
       "      <td>...</td>\n",
       "      <td>NaN</td>\n",
       "      <td>NaN</td>\n",
       "      <td>NaN</td>\n",
       "      <td>NaN</td>\n",
       "      <td>NaN</td>\n",
       "      <td>NaN</td>\n",
       "      <td>NaN</td>\n",
       "      <td>NaN</td>\n",
       "      <td>NaN</td>\n",
       "      <td>NaN</td>\n",
       "    </tr>\n",
       "  </tbody>\n",
       "</table>\n",
       "<p>5 rows × 225 columns</p>\n",
       "</div>"
      ],
      "text/plain": [
       "  Package     Type                                              Title Version  \\\n",
       "0      A3  Package  A3: Accurate, Adaptable, and Accessible Error ...   0.9.1   \n",
       "1      A3  Package  A3: Accurate, Adaptable, and Accessible Error ...   0.9.2   \n",
       "2      A3  Package  Accurate, Adaptable, and Accessible Error Metr...   1.0.0   \n",
       "3   aaSEA  Package            Amino Acid Substitution Effect Analyser   1.0.0   \n",
       "4  abbyyR      NaN  Access to Abbyy Optical Character Recognition ...     0.1   \n",
       "\n",
       "         Date                  Author  \\\n",
       "0  2013-02-06      Scott Fortmann-Roe   \n",
       "1  2013-03-24      Scott Fortmann-Roe   \n",
       "2  2015-08-15      Scott Fortmann-Roe   \n",
       "3         NaN  Raja Sekhara Reddy D.M   \n",
       "4         NaN  Gaurav Sood [aut, cre]   \n",
       "\n",
       "                                        Maintainer  \\\n",
       "0        Scott Fortmann-Roe <scottfr@berkeley.edu>   \n",
       "1        Scott Fortmann-Roe <scottfr@berkeley.edu>   \n",
       "2        Scott Fortmann-Roe <scottfr@berkeley.edu>   \n",
       "3  Raja Sekhara Reddy D.M <raja.duvvuru@gmail.com>   \n",
       "4                  Gaurav Sood <gsood07@gmail.com>   \n",
       "\n",
       "                                         Description     License  \\\n",
       "0  This package supplies tools for tabulating and...  GPL (>= 2)   \n",
       "1  This package supplies tools for tabulating and...  GPL (>= 2)   \n",
       "2  Supplies tools for tabulating and analyzing th...  GPL (>= 2)   \n",
       "3  Given a protein multiple sequence alignment, i...       GPL-3   \n",
       "4  Get text from images of text using Abbyy Cloud...  GPL (>= 2)   \n",
       "\n",
       "                Depends  ... Twitter Co-author Saveimage SystemRequirement  \\\n",
       "0     [xtable, pbapply]  ...     NaN       NaN       NaN               NaN   \n",
       "1  [R, xtable, pbapply]  ...     NaN       NaN       NaN               NaN   \n",
       "2  [R, xtable, pbapply]  ...     NaN       NaN       NaN               NaN   \n",
       "3                   [R]  ...     NaN       NaN       NaN               NaN   \n",
       "4                   [R]  ...     NaN       NaN       NaN               NaN   \n",
       "\n",
       "  Versionnote Classification_ACM ReleaseDate xxxLazyLoad Github URL Github  \n",
       "0         NaN                NaN         NaN         NaN        NaN    NaN  \n",
       "1         NaN                NaN         NaN         NaN        NaN    NaN  \n",
       "2         NaN                NaN         NaN         NaN        NaN    NaN  \n",
       "3         NaN                NaN         NaN         NaN        NaN    NaN  \n",
       "4         NaN                NaN         NaN         NaN        NaN    NaN  \n",
       "\n",
       "[5 rows x 225 columns]"
      ]
     },
     "execution_count": 13,
     "metadata": {},
     "output_type": "execute_result"
    }
   ],
   "source": [
    "df.head()"
   ]
  },
  {
   "cell_type": "markdown",
   "metadata": {},
   "source": [
    "<a id='section4.0'></a>\n",
    "# 4. Limpieza de datos"
   ]
  },
  {
   "cell_type": "markdown",
   "metadata": {},
   "source": [
    "Algunos paquetes tienen más de 200 campos, y cuando se tabulan al no existir estos campos en las mayoría de los paquetes se han generado varios valores *NaN*."
   ]
  },
  {
   "cell_type": "code",
   "execution_count": 14,
   "metadata": {},
   "outputs": [
    {
     "data": {
      "text/plain": [
       "(87912, 225)"
      ]
     },
     "execution_count": 14,
     "metadata": {},
     "output_type": "execute_result"
    }
   ],
   "source": [
    "df.shape"
   ]
  },
  {
   "cell_type": "code",
   "execution_count": 15,
   "metadata": {},
   "outputs": [
    {
     "data": {
      "text/html": [
       "<div>\n",
       "<style scoped>\n",
       "    .dataframe tbody tr th:only-of-type {\n",
       "        vertical-align: middle;\n",
       "    }\n",
       "\n",
       "    .dataframe tbody tr th {\n",
       "        vertical-align: top;\n",
       "    }\n",
       "\n",
       "    .dataframe thead th {\n",
       "        text-align: right;\n",
       "    }\n",
       "</style>\n",
       "<table border=\"1\" class=\"dataframe\">\n",
       "  <thead>\n",
       "    <tr style=\"text-align: right;\">\n",
       "      <th></th>\n",
       "      <th>0</th>\n",
       "    </tr>\n",
       "  </thead>\n",
       "  <tbody>\n",
       "    <tr>\n",
       "      <th>Package</th>\n",
       "      <td>0</td>\n",
       "    </tr>\n",
       "    <tr>\n",
       "      <th>Type</th>\n",
       "      <td>40355</td>\n",
       "    </tr>\n",
       "    <tr>\n",
       "      <th>Title</th>\n",
       "      <td>157</td>\n",
       "    </tr>\n",
       "    <tr>\n",
       "      <th>Version</th>\n",
       "      <td>19</td>\n",
       "    </tr>\n",
       "    <tr>\n",
       "      <th>Date</th>\n",
       "      <td>21335</td>\n",
       "    </tr>\n",
       "    <tr>\n",
       "      <th>Author</th>\n",
       "      <td>33</td>\n",
       "    </tr>\n",
       "    <tr>\n",
       "      <th>Maintainer</th>\n",
       "      <td>224</td>\n",
       "    </tr>\n",
       "    <tr>\n",
       "      <th>Description</th>\n",
       "      <td>81</td>\n",
       "    </tr>\n",
       "    <tr>\n",
       "      <th>License</th>\n",
       "      <td>29</td>\n",
       "    </tr>\n",
       "    <tr>\n",
       "      <th>Depends</th>\n",
       "      <td>16663</td>\n",
       "    </tr>\n",
       "    <tr>\n",
       "      <th>Suggests</th>\n",
       "      <td>39343</td>\n",
       "    </tr>\n",
       "    <tr>\n",
       "      <th>Packaged</th>\n",
       "      <td>2247</td>\n",
       "    </tr>\n",
       "    <tr>\n",
       "      <th>Repository</th>\n",
       "      <td>10568</td>\n",
       "    </tr>\n",
       "    <tr>\n",
       "      <th>Date/Publication</th>\n",
       "      <td>10568</td>\n",
       "    </tr>\n",
       "    <tr>\n",
       "      <th>crandb_file_date</th>\n",
       "      <td>0</td>\n",
       "    </tr>\n",
       "    <tr>\n",
       "      <th>date</th>\n",
       "      <td>0</td>\n",
       "    </tr>\n",
       "    <tr>\n",
       "      <th>releases</th>\n",
       "      <td>0</td>\n",
       "    </tr>\n",
       "    <tr>\n",
       "      <th>Version_R</th>\n",
       "      <td>29908</td>\n",
       "    </tr>\n",
       "    <tr>\n",
       "      <th>NeedsCompilation</th>\n",
       "      <td>27537</td>\n",
       "    </tr>\n",
       "    <tr>\n",
       "      <th>Imports</th>\n",
       "      <td>40858</td>\n",
       "    </tr>\n",
       "  </tbody>\n",
       "</table>\n",
       "</div>"
      ],
      "text/plain": [
       "                      0\n",
       "Package               0\n",
       "Type              40355\n",
       "Title               157\n",
       "Version              19\n",
       "Date              21335\n",
       "Author               33\n",
       "Maintainer          224\n",
       "Description          81\n",
       "License              29\n",
       "Depends           16663\n",
       "Suggests          39343\n",
       "Packaged           2247\n",
       "Repository        10568\n",
       "Date/Publication  10568\n",
       "crandb_file_date      0\n",
       "date                  0\n",
       "releases              0\n",
       "Version_R         29908\n",
       "NeedsCompilation  27537\n",
       "Imports           40858"
      ]
     },
     "execution_count": 15,
     "metadata": {},
     "output_type": "execute_result"
    }
   ],
   "source": [
    "df.isna().sum().to_frame().head(20)"
   ]
  },
  {
   "cell_type": "markdown",
   "metadata": {},
   "source": [
    "Lista de columnas en el dataframe"
   ]
  },
  {
   "cell_type": "code",
   "execution_count": 16,
   "metadata": {},
   "outputs": [
    {
     "name": "stdout",
     "output_type": "stream",
     "text": [
      "['Package', 'Type', 'Title', 'Version', 'Date', 'Author', 'Maintainer', 'Description', 'License', 'Depends', 'Suggests', 'Packaged', 'Repository', 'Date/Publication', 'crandb_file_date', 'date', 'releases', 'Version_R', 'NeedsCompilation', 'Imports', 'Encoding', 'LazyData', 'RoxygenNote', 'VignetteBuilder', 'MD5sum', 'Authors@R', 'URL', 'BugReports', 'Contact', 'SystemRequirements', 'LazyLoad', 'Lazyload', 'Classification/ACM', 'Classification/JEL', 'LinkingTo', 'Repository/R-Forge/Project', 'Repository/R-Forge/Revision', 'Collate', 'BuildVignettes', 'Additional_repositories', 'Repository/R-Forge/DateTimeStamp', 'Keywords', 'Authors', 'biocViews', 'ByteCompile', 'ZipData', 'Url', 'Enhances', 'Copyright', 'Revision', 'Publication/Date', 'Developpers', 'Contributed datasets from', 'Language', 'Requires', 'RdMacros', 'Suggest', 'License_restricts_use', 'X-CRAN-Original-Maintainer', 'X-CRAN-Original-URL', 'X-CRAN-Comment', 'RcppModules', 'SaveImage', 'References', 'PatchURL', 'SuggestsNote', 'DependsNote', 'Biarch', 'Classification/MSC', 'OS_type', 'Dialect', 'Acknowledgments', 'Roxygen', 'KeepSource', 'Bundle', 'Contains', 'BundleDescription', 'Note', 'SUGGESTS', 'LinkingdTo', 'X-CRAN-Original-Package', 'MailingList', 'Old Maintainer(s)', 'Acknowledgements', 'VersionNote', 'Author@R', 'Reference', 'BuildResaveData', 'X-schema_org-applicationCategory', 'X-schema_org-keywords', 'X-schema_org-isPartOf', 'URLNote', 'X-schema_org-isPartof', 'Classification', 'OS_ype', 'BuildManual', 'Priority', 'License_is_FOSS', 'http', 'Contributors', 'X-schema_org-relatedLink', 'VersionSplus', 'MaintainerSplus', 'SuggestsComments', 'SVNrev', 'SuggestComments', 'Subversion', 'LastCRAN', 'Cite', 'Disclaimer', 'Data', 'BioViews', 'lazy-loading', 'LazyDataCompression', 'Lazydata', 'Literature', 'Contributor', 'Respository', 'lastDate', 'LicenseNote', 'LastChangedDate', 'LastChangedRevision', 'SVNRevision', 'VCS/SVNRevision', 'url', 'Classification/MSC-2010', 'Depents', 'SCM', 'Namespace', 'Address', 'SVN-Revision', 'Archs', 'StagedInstall', 'Licence', 'BuildKeepEmpty', 'NOTE', 'ImportNote', 'ImportsNote', 'X-CRAN-Original-LazyDataCompression', 'SysDataCompression', 'Acknowledgement', 'DependsSplus', 'Depends ', 'Enhanves', 'DateNote', 'BioCViews', 'In views', 'Extends', 'LazyDataNote', 'Recommends', 'Dependencies', 'Discussion', 'Keyword', '%Suggests', 'X-CRAN-History', 'HowToCite', '#Imports', 'Classification/ACM-2012', 'Publication', 'OriginalMaintainer', 'Reference Manual', 'Published', 'X-CRAN-Original-SystemRequirements', 'RequiredLauncherGeneration', 'Special Acknowledgement', 'Encoding ', 'Require', 'Import', 'LicenseDetails', 'notyetImports', 'Citation', 'number of statistics', 'lazyload', 'OriginalURL', 'Affiliations', '#LazyData', 'ChangeLog', 'Suggets', 'Scientists', 'Build-dep', 'Build-depends', 'Models', 'DevelURL', 'Thanks', 'SystemRequirementsNote', 'Acknowledgment', 'ContribURL', 'Bugs and Issues', 'X-CRAN-Original-OS_type', 'Dependes', 'RcmdrModels', 'Log-Exceptions', 'MinimumSvnRev', 'Limitations', 'Check', 'X-CRAN-Hitory', 'Vignette', 'NoNamespace', 'SuggestNotes', 'SystemReqsNotes', 'MinimumLibProtoVersion', '%Depends', 'Datalist', 'Webpage', 'Company', 'methods', 'iURL', 'DisplayMode', 'URLs', 'encoding', 'DependsTERR', 'Reverse depends', 'encodign', 'Nickname', 'Remotes', 'Twitter', 'Co-author', 'Saveimage', 'SystemRequirement', 'Versionnote', 'Classification_ACM', 'ReleaseDate', 'xxxLazyLoad', 'Github URL', 'Github']\n"
     ]
    }
   ],
   "source": [
    "print(df.columns.tolist())"
   ]
  },
  {
   "cell_type": "markdown",
   "metadata": {},
   "source": [
    "Se establece un umbral 1000 para mantener solo las columnas que tengan al menos mil valores que no sean NaN"
   ]
  },
  {
   "cell_type": "code",
   "execution_count": 17,
   "metadata": {},
   "outputs": [
    {
     "data": {
      "text/plain": [
       "(87912, 39)"
      ]
     },
     "execution_count": 17,
     "metadata": {},
     "output_type": "execute_result"
    }
   ],
   "source": [
    "df = df.dropna(axis=1, thresh=1000)\n",
    "df.shape"
   ]
  },
  {
   "cell_type": "markdown",
   "metadata": {},
   "source": [
    "Lista de columnas"
   ]
  },
  {
   "cell_type": "code",
   "execution_count": 18,
   "metadata": {},
   "outputs": [
    {
     "name": "stdout",
     "output_type": "stream",
     "text": [
      "['Package', 'Type', 'Title', 'Version', 'Date', 'Author', 'Maintainer', 'Description', 'License', 'Depends', 'Suggests', 'Packaged', 'Repository', 'Date/Publication', 'crandb_file_date', 'date', 'releases', 'Version_R', 'NeedsCompilation', 'Imports', 'Encoding', 'LazyData', 'RoxygenNote', 'VignetteBuilder', 'MD5sum', 'Authors@R', 'URL', 'BugReports', 'SystemRequirements', 'LazyLoad', 'LinkingTo', 'Repository/R-Forge/Project', 'Repository/R-Forge/Revision', 'Collate', 'Repository/R-Forge/DateTimeStamp', 'ByteCompile', 'Enhances', 'Copyright', 'Priority']\n"
     ]
    }
   ],
   "source": [
    "print(df.columns.tolist())"
   ]
  },
  {
   "cell_type": "code",
   "execution_count": 19,
   "metadata": {},
   "outputs": [
    {
     "data": {
      "text/plain": [
       "['Package',\n",
       " 'Type',\n",
       " 'Title',\n",
       " 'Version',\n",
       " 'Date',\n",
       " 'Author',\n",
       " 'Maintainer',\n",
       " 'Description',\n",
       " 'License',\n",
       " 'Depends',\n",
       " 'Suggests',\n",
       " 'Packaged',\n",
       " 'Repository',\n",
       " 'Date/Publication',\n",
       " 'crandb_file_date',\n",
       " 'date',\n",
       " 'releases',\n",
       " 'Version_R',\n",
       " 'NeedsCompilation',\n",
       " 'Imports',\n",
       " 'Encoding',\n",
       " 'LazyData',\n",
       " 'RoxygenNote',\n",
       " 'VignetteBuilder',\n",
       " 'MD5sum',\n",
       " 'Authors@R',\n",
       " 'URL',\n",
       " 'BugReports',\n",
       " 'SystemRequirements',\n",
       " 'LazyLoad',\n",
       " 'LinkingTo',\n",
       " 'Repository/R-Forge/Project',\n",
       " 'Repository/R-Forge/Revision',\n",
       " 'Collate',\n",
       " 'Repository/R-Forge/DateTimeStamp',\n",
       " 'ByteCompile',\n",
       " 'Enhances',\n",
       " 'Copyright',\n",
       " 'Priority']"
      ]
     },
     "execution_count": 19,
     "metadata": {},
     "output_type": "execute_result"
    }
   ],
   "source": [
    "df.columns.tolist()"
   ]
  },
  {
   "cell_type": "markdown",
   "metadata": {},
   "source": [
    "Siendo las columnas Imports, Depends y Suggests una lista de valores que especifica los paquetes de los que depende, entonces podemos obtener el tamaño de cada lista y así determinar el número de dependencias para cada categoría de dependencia"
   ]
  },
  {
   "cell_type": "code",
   "execution_count": 20,
   "metadata": {},
   "outputs": [],
   "source": [
    "columns = ['Author','Imports','Depends','Suggests','LinkingTo']\n",
    "\n",
    "for col in columns:\n",
    "    df.loc[df[col].isnull(),[col]] = df.loc[df[col].isnull(), col].apply(lambda x: [])"
   ]
  },
  {
   "cell_type": "code",
   "execution_count": 21,
   "metadata": {},
   "outputs": [],
   "source": [
    "df['NumberOfImports'] = df['Imports'].str.len()\n",
    "df['NumberOfDepends'] = df['Depends'].str.len()\n",
    "df['NumberOfSuggests'] = df['Suggests'].str.len()\n",
    "df['NumberOfLinkingTo'] = df['LinkingTo'].str.len()"
   ]
  },
  {
   "cell_type": "markdown",
   "metadata": {},
   "source": [
    "Si la columna Fecha de Publicación es nula, la completamos con la columna Fecha"
   ]
  },
  {
   "cell_type": "code",
   "execution_count": 22,
   "metadata": {},
   "outputs": [],
   "source": [
    "df.loc[df['Date/Publication'].isna(),'Date/Publication'] = df['date']"
   ]
  },
  {
   "cell_type": "markdown",
   "metadata": {},
   "source": [
    "Subdividimos la fecha de publicación par obtener el año, mes y día de la publicación del paquete"
   ]
  },
  {
   "cell_type": "code",
   "execution_count": 23,
   "metadata": {},
   "outputs": [],
   "source": [
    "df['DatePublication'] = pd.to_datetime(df['Date/Publication'], utc=True).values.astype('M8[D]')\n",
    "df['Year/Publication'] = df['DatePublication'].dt.strftime('%Y')\n",
    "df['Month/Publication'] = df['DatePublication'].dt.strftime('%m')\n",
    "df['Day/Publication'] = df['DatePublication'].dt.strftime('%d')\n",
    "df[\"Year_Month/Publication\"] = df['DatePublication'].dt.strftime('%Y-%m')"
   ]
  },
  {
   "cell_type": "code",
   "execution_count": 24,
   "metadata": {},
   "outputs": [
    {
     "data": {
      "text/html": [
       "<div>\n",
       "<style scoped>\n",
       "    .dataframe tbody tr th:only-of-type {\n",
       "        vertical-align: middle;\n",
       "    }\n",
       "\n",
       "    .dataframe tbody tr th {\n",
       "        vertical-align: top;\n",
       "    }\n",
       "\n",
       "    .dataframe thead th {\n",
       "        text-align: right;\n",
       "    }\n",
       "</style>\n",
       "<table border=\"1\" class=\"dataframe\">\n",
       "  <thead>\n",
       "    <tr style=\"text-align: right;\">\n",
       "      <th></th>\n",
       "      <th>Package</th>\n",
       "      <th>Type</th>\n",
       "      <th>Title</th>\n",
       "      <th>Version</th>\n",
       "      <th>Date</th>\n",
       "      <th>Author</th>\n",
       "      <th>Maintainer</th>\n",
       "      <th>Description</th>\n",
       "      <th>License</th>\n",
       "      <th>Depends</th>\n",
       "      <th>...</th>\n",
       "      <th>Priority</th>\n",
       "      <th>NumberOfImports</th>\n",
       "      <th>NumberOfDepends</th>\n",
       "      <th>NumberOfSuggests</th>\n",
       "      <th>NumberOfLinkingTo</th>\n",
       "      <th>DatePublication</th>\n",
       "      <th>Year/Publication</th>\n",
       "      <th>Month/Publication</th>\n",
       "      <th>Day/Publication</th>\n",
       "      <th>Year_Month/Publication</th>\n",
       "    </tr>\n",
       "  </thead>\n",
       "  <tbody>\n",
       "    <tr>\n",
       "      <th>0</th>\n",
       "      <td>A3</td>\n",
       "      <td>Package</td>\n",
       "      <td>A3: Accurate, Adaptable, and Accessible Error ...</td>\n",
       "      <td>0.9.1</td>\n",
       "      <td>2013-02-06</td>\n",
       "      <td>Scott Fortmann-Roe</td>\n",
       "      <td>Scott Fortmann-Roe &lt;scottfr@berkeley.edu&gt;</td>\n",
       "      <td>This package supplies tools for tabulating and...</td>\n",
       "      <td>GPL (&gt;= 2)</td>\n",
       "      <td>[xtable, pbapply]</td>\n",
       "      <td>...</td>\n",
       "      <td>NaN</td>\n",
       "      <td>0</td>\n",
       "      <td>2</td>\n",
       "      <td>2</td>\n",
       "      <td>0</td>\n",
       "      <td>2013-02-07</td>\n",
       "      <td>2013</td>\n",
       "      <td>02</td>\n",
       "      <td>07</td>\n",
       "      <td>2013-02</td>\n",
       "    </tr>\n",
       "    <tr>\n",
       "      <th>1</th>\n",
       "      <td>A3</td>\n",
       "      <td>Package</td>\n",
       "      <td>A3: Accurate, Adaptable, and Accessible Error ...</td>\n",
       "      <td>0.9.2</td>\n",
       "      <td>2013-03-24</td>\n",
       "      <td>Scott Fortmann-Roe</td>\n",
       "      <td>Scott Fortmann-Roe &lt;scottfr@berkeley.edu&gt;</td>\n",
       "      <td>This package supplies tools for tabulating and...</td>\n",
       "      <td>GPL (&gt;= 2)</td>\n",
       "      <td>[R, xtable, pbapply]</td>\n",
       "      <td>...</td>\n",
       "      <td>NaN</td>\n",
       "      <td>0</td>\n",
       "      <td>3</td>\n",
       "      <td>2</td>\n",
       "      <td>0</td>\n",
       "      <td>2013-03-26</td>\n",
       "      <td>2013</td>\n",
       "      <td>03</td>\n",
       "      <td>26</td>\n",
       "      <td>2013-03</td>\n",
       "    </tr>\n",
       "    <tr>\n",
       "      <th>2</th>\n",
       "      <td>A3</td>\n",
       "      <td>Package</td>\n",
       "      <td>Accurate, Adaptable, and Accessible Error Metr...</td>\n",
       "      <td>1.0.0</td>\n",
       "      <td>2015-08-15</td>\n",
       "      <td>Scott Fortmann-Roe</td>\n",
       "      <td>Scott Fortmann-Roe &lt;scottfr@berkeley.edu&gt;</td>\n",
       "      <td>Supplies tools for tabulating and analyzing th...</td>\n",
       "      <td>GPL (&gt;= 2)</td>\n",
       "      <td>[R, xtable, pbapply]</td>\n",
       "      <td>...</td>\n",
       "      <td>NaN</td>\n",
       "      <td>0</td>\n",
       "      <td>3</td>\n",
       "      <td>2</td>\n",
       "      <td>0</td>\n",
       "      <td>2015-08-16</td>\n",
       "      <td>2015</td>\n",
       "      <td>08</td>\n",
       "      <td>16</td>\n",
       "      <td>2015-08</td>\n",
       "    </tr>\n",
       "  </tbody>\n",
       "</table>\n",
       "<p>3 rows × 48 columns</p>\n",
       "</div>"
      ],
      "text/plain": [
       "  Package     Type                                              Title Version  \\\n",
       "0      A3  Package  A3: Accurate, Adaptable, and Accessible Error ...   0.9.1   \n",
       "1      A3  Package  A3: Accurate, Adaptable, and Accessible Error ...   0.9.2   \n",
       "2      A3  Package  Accurate, Adaptable, and Accessible Error Metr...   1.0.0   \n",
       "\n",
       "         Date              Author                                 Maintainer  \\\n",
       "0  2013-02-06  Scott Fortmann-Roe  Scott Fortmann-Roe <scottfr@berkeley.edu>   \n",
       "1  2013-03-24  Scott Fortmann-Roe  Scott Fortmann-Roe <scottfr@berkeley.edu>   \n",
       "2  2015-08-15  Scott Fortmann-Roe  Scott Fortmann-Roe <scottfr@berkeley.edu>   \n",
       "\n",
       "                                         Description     License  \\\n",
       "0  This package supplies tools for tabulating and...  GPL (>= 2)   \n",
       "1  This package supplies tools for tabulating and...  GPL (>= 2)   \n",
       "2  Supplies tools for tabulating and analyzing th...  GPL (>= 2)   \n",
       "\n",
       "                Depends  ... Priority NumberOfImports NumberOfDepends  \\\n",
       "0     [xtable, pbapply]  ...      NaN               0               2   \n",
       "1  [R, xtable, pbapply]  ...      NaN               0               3   \n",
       "2  [R, xtable, pbapply]  ...      NaN               0               3   \n",
       "\n",
       "  NumberOfSuggests NumberOfLinkingTo DatePublication Year/Publication  \\\n",
       "0                2                 0      2013-02-07             2013   \n",
       "1                2                 0      2013-03-26             2013   \n",
       "2                2                 0      2015-08-16             2015   \n",
       "\n",
       "  Month/Publication Day/Publication Year_Month/Publication  \n",
       "0                02              07                2013-02  \n",
       "1                03              26                2013-03  \n",
       "2                08              16                2015-08  \n",
       "\n",
       "[3 rows x 48 columns]"
      ]
     },
     "execution_count": 24,
     "metadata": {},
     "output_type": "execute_result"
    }
   ],
   "source": [
    "df.head(3)"
   ]
  },
  {
   "cell_type": "code",
   "execution_count": 25,
   "metadata": {},
   "outputs": [],
   "source": [
    "colnames = df.columns.tolist()"
   ]
  },
  {
   "cell_type": "code",
   "execution_count": 26,
   "metadata": {},
   "outputs": [],
   "source": [
    "df.to_csv(\"DATA_CRAN/CRAN_DATA.csv\", header=colnames, sep=\"|\", index=False)"
   ]
  },
  {
   "cell_type": "code",
   "execution_count": 27,
   "metadata": {},
   "outputs": [
    {
     "data": {
      "text/plain": [
       "Package                                     object\n",
       "Type                                        object\n",
       "Title                                       object\n",
       "Version                                     object\n",
       "Date                                        object\n",
       "Author                                      object\n",
       "Maintainer                                  object\n",
       "Description                                 object\n",
       "License                                     object\n",
       "Depends                                     object\n",
       "Suggests                                    object\n",
       "Packaged                                    object\n",
       "Repository                                  object\n",
       "Date/Publication                            object\n",
       "crandb_file_date                            object\n",
       "date                                        object\n",
       "releases                                    object\n",
       "Version_R                                   object\n",
       "NeedsCompilation                            object\n",
       "Imports                                     object\n",
       "Encoding                                    object\n",
       "LazyData                                    object\n",
       "RoxygenNote                                 object\n",
       "VignetteBuilder                             object\n",
       "MD5sum                                      object\n",
       "Authors@R                                   object\n",
       "URL                                         object\n",
       "BugReports                                  object\n",
       "SystemRequirements                          object\n",
       "LazyLoad                                    object\n",
       "LinkingTo                                   object\n",
       "Repository/R-Forge/Project                  object\n",
       "Repository/R-Forge/Revision                 object\n",
       "Collate                                     object\n",
       "Repository/R-Forge/DateTimeStamp            object\n",
       "ByteCompile                                 object\n",
       "Enhances                                    object\n",
       "Copyright                                   object\n",
       "Priority                                    object\n",
       "NumberOfImports                              int64\n",
       "NumberOfDepends                              int64\n",
       "NumberOfSuggests                             int64\n",
       "NumberOfLinkingTo                            int64\n",
       "DatePublication                     datetime64[ns]\n",
       "Year/Publication                            object\n",
       "Month/Publication                           object\n",
       "Day/Publication                             object\n",
       "Year_Month/Publication                      object\n",
       "dtype: object"
      ]
     },
     "execution_count": 27,
     "metadata": {},
     "output_type": "execute_result"
    }
   ],
   "source": [
    "df.dtypes"
   ]
  },
  {
   "cell_type": "code",
   "execution_count": null,
   "metadata": {},
   "outputs": [],
   "source": []
  },
  {
   "cell_type": "code",
   "execution_count": null,
   "metadata": {},
   "outputs": [],
   "source": []
  }
 ],
 "metadata": {
  "kernelspec": {
   "display_name": "Python 3",
   "language": "python",
   "name": "python3"
  },
  "language_info": {
   "codemirror_mode": {
    "name": "ipython",
    "version": 3
   },
   "file_extension": ".py",
   "mimetype": "text/x-python",
   "name": "python",
   "nbconvert_exporter": "python",
   "pygments_lexer": "ipython3",
   "version": "3.7.2"
  }
 },
 "nbformat": 4,
 "nbformat_minor": 2
}
